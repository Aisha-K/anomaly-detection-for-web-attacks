{
 "cells": [
  {
   "cell_type": "code",
   "execution_count": 2,
   "id": "acceptable-finance",
   "metadata": {},
   "outputs": [],
   "source": [
    "import pandas as pd, numpy as np\n",
    "import regex as re\n",
    "\n",
    "from gensim.models.doc2vec import Doc2Vec, TaggedDocument\n",
    "from gensim.models import Word2Vec\n",
    "from sklearn.model_selection import train_test_split\n",
    "from sklearn.model_selection import GridSearchCV\n",
    "from sklearn.ensemble import RandomForestClassifier, GradientBoostingClassifier\n",
    "from sklearn.svm import SVC\n",
    "from sklearn import preprocessing, metrics, tree\n",
    "from sklearn.pipeline import make_pipeline\n",
    "from sklearn.neural_network import MLPClassifier\n",
    "\n",
    "#global options\n",
    "pd.set_option('display.max_columns', None)"
   ]
  },
  {
   "cell_type": "markdown",
   "id": "normal-syndicate",
   "metadata": {},
   "source": [
    "## Read in data"
   ]
  },
  {
   "cell_type": "code",
   "execution_count": 3,
   "id": "vital-anime",
   "metadata": {},
   "outputs": [],
   "source": [
    "\n",
    "\n",
    "'''\n",
    "Outputs an array of dictionaries, with each dictionary representing a request.\n",
    "@param data_array an array containing each line of the txt file as an item\n",
    "'''\n",
    "def process_http_data(data_array, is_anomalous):\n",
    "    data_processed = []\n",
    "    i = 0 \n",
    "    while i < (len(data_array)-1):\n",
    "        data_item = {}\n",
    "        if data_array[i][0:3] == 'GET':\n",
    "            data_item['method']='GET'\n",
    "            data_item['url']= data_array[i][4:-1]\n",
    "            i+=1\n",
    "\n",
    "            while (i<len(data_array)-1) & (data_array[i]!='\\n') :\n",
    "                s = data_array[i].split(':',1)\n",
    "                data_item[ s[0] ] = s[1][1:-1]\n",
    "                i += 1\n",
    "            i +=2\n",
    "\n",
    "        elif (data_array[i][0:4] == 'POST') | (data_array[i][0:3] == 'PUT'):\n",
    "            if (data_array[i][0:3] == 'PUT'):\n",
    "                data_item['method']='PUT'\n",
    "            else:\n",
    "                data_item['method']='POST'\n",
    "            data_item['url']= data_array[i][5:-1]\n",
    "            i+=1\n",
    "\n",
    "            while data_array[i]!='\\n':\n",
    "                s = data_array[i].split(':',1)\n",
    "                data_item[s[0] ] = s[1][1:-1]\n",
    "                i += 1\n",
    "\n",
    "            i += 1\n",
    "            data_item['body'] = data_array[i][0:-1]\n",
    "            i+= 2\n",
    "\n",
    "        else:\n",
    "            i+=1\n",
    "            continue\n",
    "\n",
    "        data_item['anomalous'] = is_anomalous\n",
    "        data_processed.append(data_item)\n",
    "\n",
    "    return data_processed\n",
    "\n"
   ]
  },
  {
   "cell_type": "code",
   "execution_count": 4,
   "id": "textile-riverside",
   "metadata": {},
   "outputs": [
    {
     "data": {
      "text/plain": [
       "{'method': 'GET',\n",
       " 'url': 'http://localhost:8080/tienda1/imagenes/nuestratierra.jpg.BAK HTTP/1.1',\n",
       " 'User-Agent': 'Mozilla/5.0 (compatible; Konqueror/3.5; Linux) KHTML/3.5.8 (like Gecko)',\n",
       " 'Pragma': 'no-cache',\n",
       " 'Cache-control': 'no-cache',\n",
       " 'Accept': 'text/xml,application/xml,application/xhtml+xml,text/html;q=0.9,text/plain;q=0.8,image/png,*/*;q=0.5',\n",
       " 'Accept-Encoding': 'x-gzip, x-deflate, gzip, deflate',\n",
       " 'Accept-Charset': 'utf-8, utf-8;q=0.5, *;q=0.5',\n",
       " 'Accept-Language': 'en',\n",
       " 'Host': 'localhost:8080',\n",
       " 'Cookie': 'JSESSIONID=3CC12010CDA952F123240EBAD79B55CC',\n",
       " 'Connection': 'close',\n",
       " 'anomalous': True}"
      ]
     },
     "execution_count": 4,
     "metadata": {},
     "output_type": "execute_result"
    }
   ],
   "source": [
    "with open('../data/raw/normalTrafficTest.txt') as file:\n",
    "    data1 =  file.readlines()\n",
    "\n",
    "with open('../data/raw/normalTrafficTraining.txt') as file:\n",
    "    data2 = file.readlines()\n",
    "\n",
    "with open('../data/raw/anomalousTrafficTest.txt') as file:\n",
    "    data3 = file.readlines()\n",
    "\n",
    "d3 = process_http_data(data3, True)\n",
    "d2 = process_http_data(data2, False)\n",
    "d1 = process_http_data(data1, False)\n",
    "\n",
    "d3[-1]"
   ]
  },
  {
   "cell_type": "code",
   "execution_count": 5,
   "id": "accessible-queue",
   "metadata": {},
   "outputs": [
    {
     "name": "stdout",
     "output_type": "stream",
     "text": [
      "(97065, 16)\n"
     ]
    },
    {
     "data": {
      "text/html": [
       "<div>\n",
       "<style scoped>\n",
       "    .dataframe tbody tr th:only-of-type {\n",
       "        vertical-align: middle;\n",
       "    }\n",
       "\n",
       "    .dataframe tbody tr th {\n",
       "        vertical-align: top;\n",
       "    }\n",
       "\n",
       "    .dataframe thead th {\n",
       "        text-align: right;\n",
       "    }\n",
       "</style>\n",
       "<table border=\"1\" class=\"dataframe\">\n",
       "  <thead>\n",
       "    <tr style=\"text-align: right;\">\n",
       "      <th></th>\n",
       "      <th>method</th>\n",
       "      <th>url</th>\n",
       "      <th>User-Agent</th>\n",
       "      <th>Pragma</th>\n",
       "      <th>Cache-control</th>\n",
       "      <th>Accept</th>\n",
       "      <th>Accept-Encoding</th>\n",
       "      <th>Accept-Charset</th>\n",
       "      <th>Accept-Language</th>\n",
       "      <th>Host</th>\n",
       "      <th>Cookie</th>\n",
       "      <th>Connection</th>\n",
       "      <th>anomalous</th>\n",
       "      <th>Content-Type</th>\n",
       "      <th>Content-Length</th>\n",
       "      <th>body</th>\n",
       "    </tr>\n",
       "  </thead>\n",
       "  <tbody>\n",
       "    <tr>\n",
       "      <th>0</th>\n",
       "      <td>GET</td>\n",
       "      <td>http://localhost:8080/tienda1/index.jsp HTTP/1.1</td>\n",
       "      <td>Mozilla/5.0 (compatible; Konqueror/3.5; Linux)...</td>\n",
       "      <td>no-cache</td>\n",
       "      <td>no-cache</td>\n",
       "      <td>text/xml,application/xml,application/xhtml+xml...</td>\n",
       "      <td>x-gzip, x-deflate, gzip, deflate</td>\n",
       "      <td>utf-8, utf-8;q=0.5, *;q=0.5</td>\n",
       "      <td>en</td>\n",
       "      <td>localhost:8080</td>\n",
       "      <td>JSESSIONID=EA414B3E327DED6875848530C864BD8F</td>\n",
       "      <td>close</td>\n",
       "      <td>False</td>\n",
       "      <td>NaN</td>\n",
       "      <td>NaN</td>\n",
       "      <td>NaN</td>\n",
       "    </tr>\n",
       "    <tr>\n",
       "      <th>1</th>\n",
       "      <td>GET</td>\n",
       "      <td>http://localhost:8080/tienda1/publico/anadir.j...</td>\n",
       "      <td>Mozilla/5.0 (compatible; Konqueror/3.5; Linux)...</td>\n",
       "      <td>no-cache</td>\n",
       "      <td>no-cache</td>\n",
       "      <td>text/xml,application/xml,application/xhtml+xml...</td>\n",
       "      <td>x-gzip, x-deflate, gzip, deflate</td>\n",
       "      <td>utf-8, utf-8;q=0.5, *;q=0.5</td>\n",
       "      <td>en</td>\n",
       "      <td>localhost:8080</td>\n",
       "      <td>JSESSIONID=54E25FF4B7F0E4E855B112F882E9EEA5</td>\n",
       "      <td>close</td>\n",
       "      <td>False</td>\n",
       "      <td>NaN</td>\n",
       "      <td>NaN</td>\n",
       "      <td>NaN</td>\n",
       "    </tr>\n",
       "    <tr>\n",
       "      <th>2</th>\n",
       "      <td>POST</td>\n",
       "      <td>http://localhost:8080/tienda1/publico/anadir.j...</td>\n",
       "      <td>Mozilla/5.0 (compatible; Konqueror/3.5; Linux)...</td>\n",
       "      <td>no-cache</td>\n",
       "      <td>no-cache</td>\n",
       "      <td>text/xml,application/xml,application/xhtml+xml...</td>\n",
       "      <td>x-gzip, x-deflate, gzip, deflate</td>\n",
       "      <td>utf-8, utf-8;q=0.5, *;q=0.5</td>\n",
       "      <td>en</td>\n",
       "      <td>localhost:8080</td>\n",
       "      <td>JSESSIONID=788887A0F479749C4CEEA1E268B4A501</td>\n",
       "      <td>close</td>\n",
       "      <td>False</td>\n",
       "      <td>application/x-www-form-urlencoded</td>\n",
       "      <td>74</td>\n",
       "      <td>id=1&amp;nombre=Jam%F3n+Ib%E9rico&amp;precio=39&amp;cantid...</td>\n",
       "    </tr>\n",
       "    <tr>\n",
       "      <th>3</th>\n",
       "      <td>GET</td>\n",
       "      <td>http://localhost:8080/tienda1/publico/autentic...</td>\n",
       "      <td>Mozilla/5.0 (compatible; Konqueror/3.5; Linux)...</td>\n",
       "      <td>no-cache</td>\n",
       "      <td>no-cache</td>\n",
       "      <td>text/xml,application/xml,application/xhtml+xml...</td>\n",
       "      <td>x-gzip, x-deflate, gzip, deflate</td>\n",
       "      <td>utf-8, utf-8;q=0.5, *;q=0.5</td>\n",
       "      <td>en</td>\n",
       "      <td>localhost:8080</td>\n",
       "      <td>JSESSIONID=94ECD5EE8EF7EFE4BB26C701B150ED7B</td>\n",
       "      <td>close</td>\n",
       "      <td>False</td>\n",
       "      <td>NaN</td>\n",
       "      <td>NaN</td>\n",
       "      <td>NaN</td>\n",
       "    </tr>\n",
       "    <tr>\n",
       "      <th>4</th>\n",
       "      <td>POST</td>\n",
       "      <td>http://localhost:8080/tienda1/publico/autentic...</td>\n",
       "      <td>Mozilla/5.0 (compatible; Konqueror/3.5; Linux)...</td>\n",
       "      <td>no-cache</td>\n",
       "      <td>no-cache</td>\n",
       "      <td>text/xml,application/xml,application/xhtml+xml...</td>\n",
       "      <td>x-gzip, x-deflate, gzip, deflate</td>\n",
       "      <td>utf-8, utf-8;q=0.5, *;q=0.5</td>\n",
       "      <td>en</td>\n",
       "      <td>localhost:8080</td>\n",
       "      <td>JSESSIONID=23391DBBADEC19FE01E02D201F278C6A</td>\n",
       "      <td>close</td>\n",
       "      <td>False</td>\n",
       "      <td>application/x-www-form-urlencoded</td>\n",
       "      <td>60</td>\n",
       "      <td>modo=entrar&amp;login=caria&amp;pwd=egipciaca&amp;remember...</td>\n",
       "    </tr>\n",
       "  </tbody>\n",
       "</table>\n",
       "</div>"
      ],
      "text/plain": [
       "  method                                                url  \\\n",
       "0    GET   http://localhost:8080/tienda1/index.jsp HTTP/1.1   \n",
       "1    GET  http://localhost:8080/tienda1/publico/anadir.j...   \n",
       "2   POST  http://localhost:8080/tienda1/publico/anadir.j...   \n",
       "3    GET  http://localhost:8080/tienda1/publico/autentic...   \n",
       "4   POST  http://localhost:8080/tienda1/publico/autentic...   \n",
       "\n",
       "                                          User-Agent    Pragma Cache-control  \\\n",
       "0  Mozilla/5.0 (compatible; Konqueror/3.5; Linux)...  no-cache      no-cache   \n",
       "1  Mozilla/5.0 (compatible; Konqueror/3.5; Linux)...  no-cache      no-cache   \n",
       "2  Mozilla/5.0 (compatible; Konqueror/3.5; Linux)...  no-cache      no-cache   \n",
       "3  Mozilla/5.0 (compatible; Konqueror/3.5; Linux)...  no-cache      no-cache   \n",
       "4  Mozilla/5.0 (compatible; Konqueror/3.5; Linux)...  no-cache      no-cache   \n",
       "\n",
       "                                              Accept  \\\n",
       "0  text/xml,application/xml,application/xhtml+xml...   \n",
       "1  text/xml,application/xml,application/xhtml+xml...   \n",
       "2  text/xml,application/xml,application/xhtml+xml...   \n",
       "3  text/xml,application/xml,application/xhtml+xml...   \n",
       "4  text/xml,application/xml,application/xhtml+xml...   \n",
       "\n",
       "                    Accept-Encoding               Accept-Charset  \\\n",
       "0  x-gzip, x-deflate, gzip, deflate  utf-8, utf-8;q=0.5, *;q=0.5   \n",
       "1  x-gzip, x-deflate, gzip, deflate  utf-8, utf-8;q=0.5, *;q=0.5   \n",
       "2  x-gzip, x-deflate, gzip, deflate  utf-8, utf-8;q=0.5, *;q=0.5   \n",
       "3  x-gzip, x-deflate, gzip, deflate  utf-8, utf-8;q=0.5, *;q=0.5   \n",
       "4  x-gzip, x-deflate, gzip, deflate  utf-8, utf-8;q=0.5, *;q=0.5   \n",
       "\n",
       "  Accept-Language            Host  \\\n",
       "0              en  localhost:8080   \n",
       "1              en  localhost:8080   \n",
       "2              en  localhost:8080   \n",
       "3              en  localhost:8080   \n",
       "4              en  localhost:8080   \n",
       "\n",
       "                                        Cookie Connection  anomalous  \\\n",
       "0  JSESSIONID=EA414B3E327DED6875848530C864BD8F      close      False   \n",
       "1  JSESSIONID=54E25FF4B7F0E4E855B112F882E9EEA5      close      False   \n",
       "2  JSESSIONID=788887A0F479749C4CEEA1E268B4A501      close      False   \n",
       "3  JSESSIONID=94ECD5EE8EF7EFE4BB26C701B150ED7B      close      False   \n",
       "4  JSESSIONID=23391DBBADEC19FE01E02D201F278C6A      close      False   \n",
       "\n",
       "                        Content-Type Content-Length  \\\n",
       "0                                NaN            NaN   \n",
       "1                                NaN            NaN   \n",
       "2  application/x-www-form-urlencoded             74   \n",
       "3                                NaN            NaN   \n",
       "4  application/x-www-form-urlencoded             60   \n",
       "\n",
       "                                                body  \n",
       "0                                                NaN  \n",
       "1                                                NaN  \n",
       "2  id=1&nombre=Jam%F3n+Ib%E9rico&precio=39&cantid...  \n",
       "3                                                NaN  \n",
       "4  modo=entrar&login=caria&pwd=egipciaca&remember...  "
      ]
     },
     "execution_count": 5,
     "metadata": {},
     "output_type": "execute_result"
    }
   ],
   "source": [
    "df_orig = pd.DataFrame(d1 + d2 + d3)\n",
    "del(d3,d2,d1)\n",
    "print(df_orig.shape)\n",
    "df_orig.head()"
   ]
  },
  {
   "cell_type": "code",
   "execution_count": 6,
   "id": "front-gamma",
   "metadata": {
    "scrolled": true
   },
   "outputs": [
    {
     "data": {
      "text/plain": [
       "GET     71088\n",
       "POST    25580\n",
       "PUT       397\n",
       "Name: method, dtype: int64"
      ]
     },
     "execution_count": 6,
     "metadata": {},
     "output_type": "execute_result"
    }
   ],
   "source": [
    "df_orig['method'].value_counts()"
   ]
  },
  {
   "cell_type": "code",
   "execution_count": 7,
   "id": "living-lover",
   "metadata": {},
   "outputs": [],
   "source": [
    "df= df_orig.copy()"
   ]
  },
  {
   "cell_type": "code",
   "execution_count": 8,
   "id": "induced-greene",
   "metadata": {},
   "outputs": [],
   "source": [
    "#df.to_csv('../data/interim/1_original_data_to_df.csv')"
   ]
  },
  {
   "cell_type": "markdown",
   "id": "ignored-hayes",
   "metadata": {},
   "source": [
    "## Process data / feature extraction"
   ]
  },
  {
   "cell_type": "code",
   "execution_count": 9,
   "id": "asian-niger",
   "metadata": {},
   "outputs": [
    {
     "name": "stdout",
     "output_type": "stream",
     "text": [
      "(97065, 19)\n"
     ]
    },
    {
     "data": {
      "text/html": [
       "<div>\n",
       "<style scoped>\n",
       "    .dataframe tbody tr th:only-of-type {\n",
       "        vertical-align: middle;\n",
       "    }\n",
       "\n",
       "    .dataframe tbody tr th {\n",
       "        vertical-align: top;\n",
       "    }\n",
       "\n",
       "    .dataframe thead th {\n",
       "        text-align: right;\n",
       "    }\n",
       "</style>\n",
       "<table border=\"1\" class=\"dataframe\">\n",
       "  <thead>\n",
       "    <tr style=\"text-align: right;\">\n",
       "      <th></th>\n",
       "      <th>method</th>\n",
       "      <th>url</th>\n",
       "      <th>User-Agent</th>\n",
       "      <th>Pragma</th>\n",
       "      <th>Cache-control</th>\n",
       "      <th>Accept</th>\n",
       "      <th>Accept-Encoding</th>\n",
       "      <th>Accept-Charset</th>\n",
       "      <th>Accept-Language</th>\n",
       "      <th>Host</th>\n",
       "      <th>Cookie</th>\n",
       "      <th>Connection</th>\n",
       "      <th>anomalous</th>\n",
       "      <th>Content-Type</th>\n",
       "      <th>Content-Length</th>\n",
       "      <th>body</th>\n",
       "      <th>browser</th>\n",
       "      <th>system-information</th>\n",
       "      <th>platform</th>\n",
       "    </tr>\n",
       "  </thead>\n",
       "  <tbody>\n",
       "    <tr>\n",
       "      <th>0</th>\n",
       "      <td>GET</td>\n",
       "      <td>http://localhost:8080/tienda1/index.jsp HTTP/1.1</td>\n",
       "      <td>Mozilla/5.0 (compatible; Konqueror/3.5; Linux)...</td>\n",
       "      <td>no-cache</td>\n",
       "      <td>no-cache</td>\n",
       "      <td>text/xml,application/xml,application/xhtml+xml...</td>\n",
       "      <td>x-gzip, x-deflate, gzip, deflate</td>\n",
       "      <td>utf-8, utf-8;q=0.5, *;q=0.5</td>\n",
       "      <td>en</td>\n",
       "      <td>localhost:8080</td>\n",
       "      <td>JSESSIONID=EA414B3E327DED6875848530C864BD8F</td>\n",
       "      <td>close</td>\n",
       "      <td>False</td>\n",
       "      <td>NaN</td>\n",
       "      <td>NaN</td>\n",
       "      <td>NaN</td>\n",
       "      <td>Mozilla/5.0</td>\n",
       "      <td>compatible; Konqueror/3.5; Linux</td>\n",
       "      <td>KHTML/3.5.8 (like Gecko)</td>\n",
       "    </tr>\n",
       "    <tr>\n",
       "      <th>1</th>\n",
       "      <td>GET</td>\n",
       "      <td>http://localhost:8080/tienda1/publico/anadir.j...</td>\n",
       "      <td>Mozilla/5.0 (compatible; Konqueror/3.5; Linux)...</td>\n",
       "      <td>no-cache</td>\n",
       "      <td>no-cache</td>\n",
       "      <td>text/xml,application/xml,application/xhtml+xml...</td>\n",
       "      <td>x-gzip, x-deflate, gzip, deflate</td>\n",
       "      <td>utf-8, utf-8;q=0.5, *;q=0.5</td>\n",
       "      <td>en</td>\n",
       "      <td>localhost:8080</td>\n",
       "      <td>JSESSIONID=54E25FF4B7F0E4E855B112F882E9EEA5</td>\n",
       "      <td>close</td>\n",
       "      <td>False</td>\n",
       "      <td>NaN</td>\n",
       "      <td>NaN</td>\n",
       "      <td>NaN</td>\n",
       "      <td>Mozilla/5.0</td>\n",
       "      <td>compatible; Konqueror/3.5; Linux</td>\n",
       "      <td>KHTML/3.5.8 (like Gecko)</td>\n",
       "    </tr>\n",
       "    <tr>\n",
       "      <th>2</th>\n",
       "      <td>POST</td>\n",
       "      <td>http://localhost:8080/tienda1/publico/anadir.j...</td>\n",
       "      <td>Mozilla/5.0 (compatible; Konqueror/3.5; Linux)...</td>\n",
       "      <td>no-cache</td>\n",
       "      <td>no-cache</td>\n",
       "      <td>text/xml,application/xml,application/xhtml+xml...</td>\n",
       "      <td>x-gzip, x-deflate, gzip, deflate</td>\n",
       "      <td>utf-8, utf-8;q=0.5, *;q=0.5</td>\n",
       "      <td>en</td>\n",
       "      <td>localhost:8080</td>\n",
       "      <td>JSESSIONID=788887A0F479749C4CEEA1E268B4A501</td>\n",
       "      <td>close</td>\n",
       "      <td>False</td>\n",
       "      <td>application/x-www-form-urlencoded</td>\n",
       "      <td>74</td>\n",
       "      <td>id=1&amp;nombre=Jam%F3n+Ib%E9rico&amp;precio=39&amp;cantid...</td>\n",
       "      <td>Mozilla/5.0</td>\n",
       "      <td>compatible; Konqueror/3.5; Linux</td>\n",
       "      <td>KHTML/3.5.8 (like Gecko)</td>\n",
       "    </tr>\n",
       "    <tr>\n",
       "      <th>3</th>\n",
       "      <td>GET</td>\n",
       "      <td>http://localhost:8080/tienda1/publico/autentic...</td>\n",
       "      <td>Mozilla/5.0 (compatible; Konqueror/3.5; Linux)...</td>\n",
       "      <td>no-cache</td>\n",
       "      <td>no-cache</td>\n",
       "      <td>text/xml,application/xml,application/xhtml+xml...</td>\n",
       "      <td>x-gzip, x-deflate, gzip, deflate</td>\n",
       "      <td>utf-8, utf-8;q=0.5, *;q=0.5</td>\n",
       "      <td>en</td>\n",
       "      <td>localhost:8080</td>\n",
       "      <td>JSESSIONID=94ECD5EE8EF7EFE4BB26C701B150ED7B</td>\n",
       "      <td>close</td>\n",
       "      <td>False</td>\n",
       "      <td>NaN</td>\n",
       "      <td>NaN</td>\n",
       "      <td>NaN</td>\n",
       "      <td>Mozilla/5.0</td>\n",
       "      <td>compatible; Konqueror/3.5; Linux</td>\n",
       "      <td>KHTML/3.5.8 (like Gecko)</td>\n",
       "    </tr>\n",
       "    <tr>\n",
       "      <th>4</th>\n",
       "      <td>POST</td>\n",
       "      <td>http://localhost:8080/tienda1/publico/autentic...</td>\n",
       "      <td>Mozilla/5.0 (compatible; Konqueror/3.5; Linux)...</td>\n",
       "      <td>no-cache</td>\n",
       "      <td>no-cache</td>\n",
       "      <td>text/xml,application/xml,application/xhtml+xml...</td>\n",
       "      <td>x-gzip, x-deflate, gzip, deflate</td>\n",
       "      <td>utf-8, utf-8;q=0.5, *;q=0.5</td>\n",
       "      <td>en</td>\n",
       "      <td>localhost:8080</td>\n",
       "      <td>JSESSIONID=23391DBBADEC19FE01E02D201F278C6A</td>\n",
       "      <td>close</td>\n",
       "      <td>False</td>\n",
       "      <td>application/x-www-form-urlencoded</td>\n",
       "      <td>60</td>\n",
       "      <td>modo=entrar&amp;login=caria&amp;pwd=egipciaca&amp;remember...</td>\n",
       "      <td>Mozilla/5.0</td>\n",
       "      <td>compatible; Konqueror/3.5; Linux</td>\n",
       "      <td>KHTML/3.5.8 (like Gecko)</td>\n",
       "    </tr>\n",
       "  </tbody>\n",
       "</table>\n",
       "</div>"
      ],
      "text/plain": [
       "  method                                                url  \\\n",
       "0    GET   http://localhost:8080/tienda1/index.jsp HTTP/1.1   \n",
       "1    GET  http://localhost:8080/tienda1/publico/anadir.j...   \n",
       "2   POST  http://localhost:8080/tienda1/publico/anadir.j...   \n",
       "3    GET  http://localhost:8080/tienda1/publico/autentic...   \n",
       "4   POST  http://localhost:8080/tienda1/publico/autentic...   \n",
       "\n",
       "                                          User-Agent    Pragma Cache-control  \\\n",
       "0  Mozilla/5.0 (compatible; Konqueror/3.5; Linux)...  no-cache      no-cache   \n",
       "1  Mozilla/5.0 (compatible; Konqueror/3.5; Linux)...  no-cache      no-cache   \n",
       "2  Mozilla/5.0 (compatible; Konqueror/3.5; Linux)...  no-cache      no-cache   \n",
       "3  Mozilla/5.0 (compatible; Konqueror/3.5; Linux)...  no-cache      no-cache   \n",
       "4  Mozilla/5.0 (compatible; Konqueror/3.5; Linux)...  no-cache      no-cache   \n",
       "\n",
       "                                              Accept  \\\n",
       "0  text/xml,application/xml,application/xhtml+xml...   \n",
       "1  text/xml,application/xml,application/xhtml+xml...   \n",
       "2  text/xml,application/xml,application/xhtml+xml...   \n",
       "3  text/xml,application/xml,application/xhtml+xml...   \n",
       "4  text/xml,application/xml,application/xhtml+xml...   \n",
       "\n",
       "                    Accept-Encoding               Accept-Charset  \\\n",
       "0  x-gzip, x-deflate, gzip, deflate  utf-8, utf-8;q=0.5, *;q=0.5   \n",
       "1  x-gzip, x-deflate, gzip, deflate  utf-8, utf-8;q=0.5, *;q=0.5   \n",
       "2  x-gzip, x-deflate, gzip, deflate  utf-8, utf-8;q=0.5, *;q=0.5   \n",
       "3  x-gzip, x-deflate, gzip, deflate  utf-8, utf-8;q=0.5, *;q=0.5   \n",
       "4  x-gzip, x-deflate, gzip, deflate  utf-8, utf-8;q=0.5, *;q=0.5   \n",
       "\n",
       "  Accept-Language            Host  \\\n",
       "0              en  localhost:8080   \n",
       "1              en  localhost:8080   \n",
       "2              en  localhost:8080   \n",
       "3              en  localhost:8080   \n",
       "4              en  localhost:8080   \n",
       "\n",
       "                                        Cookie Connection  anomalous  \\\n",
       "0  JSESSIONID=EA414B3E327DED6875848530C864BD8F      close      False   \n",
       "1  JSESSIONID=54E25FF4B7F0E4E855B112F882E9EEA5      close      False   \n",
       "2  JSESSIONID=788887A0F479749C4CEEA1E268B4A501      close      False   \n",
       "3  JSESSIONID=94ECD5EE8EF7EFE4BB26C701B150ED7B      close      False   \n",
       "4  JSESSIONID=23391DBBADEC19FE01E02D201F278C6A      close      False   \n",
       "\n",
       "                        Content-Type Content-Length  \\\n",
       "0                                NaN            NaN   \n",
       "1                                NaN            NaN   \n",
       "2  application/x-www-form-urlencoded             74   \n",
       "3                                NaN            NaN   \n",
       "4  application/x-www-form-urlencoded             60   \n",
       "\n",
       "                                                body      browser  \\\n",
       "0                                                NaN  Mozilla/5.0   \n",
       "1                                                NaN  Mozilla/5.0   \n",
       "2  id=1&nombre=Jam%F3n+Ib%E9rico&precio=39&cantid...  Mozilla/5.0   \n",
       "3                                                NaN  Mozilla/5.0   \n",
       "4  modo=entrar&login=caria&pwd=egipciaca&remember...  Mozilla/5.0   \n",
       "\n",
       "                 system-information                  platform  \n",
       "0  compatible; Konqueror/3.5; Linux  KHTML/3.5.8 (like Gecko)  \n",
       "1  compatible; Konqueror/3.5; Linux  KHTML/3.5.8 (like Gecko)  \n",
       "2  compatible; Konqueror/3.5; Linux  KHTML/3.5.8 (like Gecko)  \n",
       "3  compatible; Konqueror/3.5; Linux  KHTML/3.5.8 (like Gecko)  \n",
       "4  compatible; Konqueror/3.5; Linux  KHTML/3.5.8 (like Gecko)  "
      ]
     },
     "execution_count": 9,
     "metadata": {},
     "output_type": "execute_result"
    }
   ],
   "source": [
    "# process columns, extract features\n",
    "df['browser'] = df['User-Agent'].str.extract( r'^(.*?) \\(', expand=False)\n",
    "df['system-information'] = df['User-Agent'].str.extract( r'\\((.*?)\\)', expand=False)\n",
    "df['platform'] = df['User-Agent'].str.extract( r'\\) (.*)$', expand=False)\n",
    "df.drop('User-Agent',1)\n",
    "\n",
    "\n",
    "print(df.shape)\n",
    "df.head()"
   ]
  },
  {
   "cell_type": "code",
   "execution_count": 10,
   "id": "specific-rhythm",
   "metadata": {},
   "outputs": [
    {
     "name": "stdout",
     "output_type": "stream",
     "text": [
      "['http://localhost:8080/tienda1/publico/anadir.jsp', 'id=1', 'nombre=Jam%F3n+Ib%E9rico', 'precio=39', 'cantidad=41', 'B1=A%F1adir+al+carrito HTTP/1.1']\n",
      "['http:', '', 'localhost:8080', 'tienda1', 'publico', 'anadir.jsp', 'id', '1', 'nombre', 'Jam%F3n', 'Ib%E9rico', 'precio', '39', 'cantidad', '41', 'B1', 'A%F1adir', 'al', 'carrito HTTP', '1.1']\n"
     ]
    }
   ],
   "source": [
    "#testing how to split\n",
    "tmp = re.split('[?&]', 'http://localhost:8080/tienda1/publico/anadir.jsp?id=1&nombre=Jam%F3n+Ib%E9rico&precio=39&cantidad=41&B1=A%F1adir+al+carrito HTTP/1.1')\n",
    "print(tmp)\n",
    "tmp = re.split('[?/&=+]', 'http://localhost:8080/tienda1/publico/anadir.jsp?id=1&nombre=Jam%F3n+Ib%E9rico&precio=39&cantidad=41&B1=A%F1adir+al+carrito HTTP/1.1')\n",
    "print(tmp)"
   ]
  },
  {
   "cell_type": "code",
   "execution_count": 11,
   "id": "boxed-tourist",
   "metadata": {},
   "outputs": [
    {
     "data": {
      "text/plain": [
       "HTTP/1.1    97065\n",
       "Name: protocol, dtype: int64"
      ]
     },
     "execution_count": 11,
     "metadata": {},
     "output_type": "execute_result"
    }
   ],
   "source": [
    "df['protocol'] = df['url'].str.extract(r' (.*?)$')\n",
    "df['protocol'].value_counts()"
   ]
  },
  {
   "cell_type": "code",
   "execution_count": 12,
   "id": "combined-owner",
   "metadata": {
    "scrolled": true
   },
   "outputs": [],
   "source": [
    "def extract_url_only(x):\n",
    "    if '?' in x:\n",
    "        return x.split('?')[0]\n",
    "    return x[:-8]\n",
    "\n",
    "def extract_args_only(row):\n",
    "    if row['method'] == 'GET':\n",
    "        x = row['url']\n",
    "        if '?' in x:\n",
    "            return re.split( '[&=]', x.split('?')[1] )\n",
    "        return []    \n",
    "    elif (row['method'] == 'POST') | (row['method'] == 'PUT'):\n",
    "        x = row['body']\n",
    "        if type(x)==str:\n",
    "            return re.split('[&=]', x)\n",
    "        return []        \n",
    "    "
   ]
  },
  {
   "cell_type": "code",
   "execution_count": 13,
   "id": "future-hormone",
   "metadata": {},
   "outputs": [],
   "source": [
    "COMMON_SQL_WORDS = ['create', 'insert', 'view', 'from' , 'select', 'alter', 'add', 'distinct', 'into','update','set','delete',\n",
    "                    'truncate','as','order','between','where','and','or','null','drop','column','table','database','group',\n",
    "                    'having','join','union','exists','like','case']\n",
    "\n",
    "COMMON_BATCH_WORDS = [\"cd\", \"ls\", \"cat\", \"cd\", \"sudo\", \"tail\", \"echo\", \"grep\", \"mv\", \"less\",\"more\",\"gnome-open\",\n",
    "                     \"chmod\",\"chown\",\"chgrp\",\"find\", \"wget\",\"curl\", \"su\"]\n",
    "\n",
    "'''\n",
    "returns the number of words in x that are in words_list\n",
    "'''\n",
    "def num_in_words(x, words_list):\n",
    "    count = 0\n",
    "    w = x.lower()\n",
    "    for w in words_list:\n",
    "        if w in x:\n",
    "            count +=1\n",
    "    return count\n",
    "\n",
    "def num_special_chars(x):\n",
    "    y = ''.join(x)\n",
    "    z = re.sub(r'[\\w]+','',y)\n",
    "    return len(z)"
   ]
  },
  {
   "cell_type": "code",
   "execution_count": 14,
   "id": "southwest-university",
   "metadata": {},
   "outputs": [
    {
     "data": {
      "text/plain": [
       "0                                                   []\n",
       "1    [id, 1, nombre, Jam%F3n+Ib%E9rico, precio, 39,...\n",
       "Name: arg_words, dtype: object"
      ]
     },
     "execution_count": 14,
     "metadata": {},
     "output_type": "execute_result"
    }
   ],
   "source": [
    "df['url_only'] = df['url'].apply(lambda x: extract_url_only(x))\n",
    "df['url_words'] = df['url'].apply(lambda x:  re.split('[/]', x) )\n",
    "df['url_words'][0]\n",
    "\n",
    "df['arg_words'] = df.apply(lambda x: extract_args_only(x), axis=1)\n",
    "df['arg_words'][0:2]"
   ]
  },
  {
   "cell_type": "code",
   "execution_count": 15,
   "id": "collectible-auckland",
   "metadata": {},
   "outputs": [],
   "source": [
    "## getting more feature characteristics\n",
    "df['num_of_args'] = df['arg_words'].apply(lambda x: len(x))\n",
    "df['max_length_of_args'] = df['arg_words'].apply(lambda x: 0 if len(x) ==0 else max([ len(i) for i in x ] ))\n",
    "df['min_length_of_args'] = df['arg_words'].apply(lambda x: 0 if len(x) ==0 else min([ len(i) for i in x ] ))\n",
    "df['total_length_args'] = df['arg_words'].apply(lambda x: sum( [ len(i) for i in x ] ))\n",
    "\n",
    "df['total_length_request'] = df['url'].apply(lambda x: len(x))\n",
    "df['lenght_of_path'] = df['url_only'].apply(lambda x: len(x))\n",
    "df['port_is_common'] = df['Host'].apply(lambda x: x.split(':')[-1] in ['80','443','8080'] )\n",
    "\n",
    "df['num_of_paths'] = df['url_words'].apply(lambda x: len(x) )\n",
    "df['num_sql_words'] = df['url'].apply(lambda x: num_in_words(x, COMMON_SQL_WORDS))\n",
    "df['num_batch_words'] = df['url'].apply(lambda x: num_in_words(x, COMMON_BATCH_WORDS))\n",
    "df['num_special_chars'] = df['arg_words'].apply(lambda x: num_special_chars(x))\n"
   ]
  },
  {
   "cell_type": "code",
   "execution_count": 16,
   "id": "psychological-guess",
   "metadata": {},
   "outputs": [
    {
     "data": {
      "text/html": [
       "<div>\n",
       "<style scoped>\n",
       "    .dataframe tbody tr th:only-of-type {\n",
       "        vertical-align: middle;\n",
       "    }\n",
       "\n",
       "    .dataframe tbody tr th {\n",
       "        vertical-align: top;\n",
       "    }\n",
       "\n",
       "    .dataframe thead th {\n",
       "        text-align: right;\n",
       "    }\n",
       "</style>\n",
       "<table border=\"1\" class=\"dataframe\">\n",
       "  <thead>\n",
       "    <tr style=\"text-align: right;\">\n",
       "      <th></th>\n",
       "      <th>method</th>\n",
       "      <th>url</th>\n",
       "      <th>User-Agent</th>\n",
       "      <th>Pragma</th>\n",
       "      <th>Cache-control</th>\n",
       "      <th>Accept</th>\n",
       "      <th>Accept-Encoding</th>\n",
       "      <th>Accept-Charset</th>\n",
       "      <th>Accept-Language</th>\n",
       "      <th>Host</th>\n",
       "      <th>Cookie</th>\n",
       "      <th>Connection</th>\n",
       "      <th>anomalous</th>\n",
       "      <th>Content-Type</th>\n",
       "      <th>Content-Length</th>\n",
       "      <th>body</th>\n",
       "      <th>browser</th>\n",
       "      <th>system-information</th>\n",
       "      <th>platform</th>\n",
       "      <th>protocol</th>\n",
       "      <th>url_only</th>\n",
       "      <th>url_words</th>\n",
       "      <th>arg_words</th>\n",
       "      <th>num_of_args</th>\n",
       "      <th>max_length_of_args</th>\n",
       "      <th>min_length_of_args</th>\n",
       "      <th>total_length_args</th>\n",
       "      <th>total_length_request</th>\n",
       "      <th>lenght_of_path</th>\n",
       "      <th>port_is_common</th>\n",
       "      <th>num_of_paths</th>\n",
       "      <th>num_sql_words</th>\n",
       "      <th>num_batch_words</th>\n",
       "      <th>num_special_chars</th>\n",
       "    </tr>\n",
       "  </thead>\n",
       "  <tbody>\n",
       "    <tr>\n",
       "      <th>0</th>\n",
       "      <td>GET</td>\n",
       "      <td>http://localhost:8080/tienda1/index.jsp HTTP/1.1</td>\n",
       "      <td>Mozilla/5.0 (compatible; Konqueror/3.5; Linux)...</td>\n",
       "      <td>no-cache</td>\n",
       "      <td>no-cache</td>\n",
       "      <td>text/xml,application/xml,application/xhtml+xml...</td>\n",
       "      <td>x-gzip, x-deflate, gzip, deflate</td>\n",
       "      <td>utf-8, utf-8;q=0.5, *;q=0.5</td>\n",
       "      <td>en</td>\n",
       "      <td>localhost:8080</td>\n",
       "      <td>JSESSIONID=EA414B3E327DED6875848530C864BD8F</td>\n",
       "      <td>close</td>\n",
       "      <td>False</td>\n",
       "      <td>NaN</td>\n",
       "      <td>NaN</td>\n",
       "      <td>NaN</td>\n",
       "      <td>Mozilla/5.0</td>\n",
       "      <td>compatible; Konqueror/3.5; Linux</td>\n",
       "      <td>KHTML/3.5.8 (like Gecko)</td>\n",
       "      <td>HTTP/1.1</td>\n",
       "      <td>http://localhost:8080/tienda1/index.jsp</td>\n",
       "      <td>[http:, , localhost:8080, tienda1, index.jsp H...</td>\n",
       "      <td>[]</td>\n",
       "      <td>0</td>\n",
       "      <td>0</td>\n",
       "      <td>0</td>\n",
       "      <td>0</td>\n",
       "      <td>48</td>\n",
       "      <td>40</td>\n",
       "      <td>True</td>\n",
       "      <td>6</td>\n",
       "      <td>0</td>\n",
       "      <td>0</td>\n",
       "      <td>0</td>\n",
       "    </tr>\n",
       "    <tr>\n",
       "      <th>1</th>\n",
       "      <td>GET</td>\n",
       "      <td>http://localhost:8080/tienda1/publico/anadir.j...</td>\n",
       "      <td>Mozilla/5.0 (compatible; Konqueror/3.5; Linux)...</td>\n",
       "      <td>no-cache</td>\n",
       "      <td>no-cache</td>\n",
       "      <td>text/xml,application/xml,application/xhtml+xml...</td>\n",
       "      <td>x-gzip, x-deflate, gzip, deflate</td>\n",
       "      <td>utf-8, utf-8;q=0.5, *;q=0.5</td>\n",
       "      <td>en</td>\n",
       "      <td>localhost:8080</td>\n",
       "      <td>JSESSIONID=54E25FF4B7F0E4E855B112F882E9EEA5</td>\n",
       "      <td>close</td>\n",
       "      <td>False</td>\n",
       "      <td>NaN</td>\n",
       "      <td>NaN</td>\n",
       "      <td>NaN</td>\n",
       "      <td>Mozilla/5.0</td>\n",
       "      <td>compatible; Konqueror/3.5; Linux</td>\n",
       "      <td>KHTML/3.5.8 (like Gecko)</td>\n",
       "      <td>HTTP/1.1</td>\n",
       "      <td>http://localhost:8080/tienda1/publico/anadir.jsp</td>\n",
       "      <td>[http:, , localhost:8080, tienda1, publico, an...</td>\n",
       "      <td>[id, 1, nombre, Jam%F3n+Ib%E9rico, precio, 39,...</td>\n",
       "      <td>10</td>\n",
       "      <td>28</td>\n",
       "      <td>1</td>\n",
       "      <td>74</td>\n",
       "      <td>132</td>\n",
       "      <td>48</td>\n",
       "      <td>True</td>\n",
       "      <td>7</td>\n",
       "      <td>0</td>\n",
       "      <td>0</td>\n",
       "      <td>9</td>\n",
       "    </tr>\n",
       "  </tbody>\n",
       "</table>\n",
       "</div>"
      ],
      "text/plain": [
       "  method                                                url  \\\n",
       "0    GET   http://localhost:8080/tienda1/index.jsp HTTP/1.1   \n",
       "1    GET  http://localhost:8080/tienda1/publico/anadir.j...   \n",
       "\n",
       "                                          User-Agent    Pragma Cache-control  \\\n",
       "0  Mozilla/5.0 (compatible; Konqueror/3.5; Linux)...  no-cache      no-cache   \n",
       "1  Mozilla/5.0 (compatible; Konqueror/3.5; Linux)...  no-cache      no-cache   \n",
       "\n",
       "                                              Accept  \\\n",
       "0  text/xml,application/xml,application/xhtml+xml...   \n",
       "1  text/xml,application/xml,application/xhtml+xml...   \n",
       "\n",
       "                    Accept-Encoding               Accept-Charset  \\\n",
       "0  x-gzip, x-deflate, gzip, deflate  utf-8, utf-8;q=0.5, *;q=0.5   \n",
       "1  x-gzip, x-deflate, gzip, deflate  utf-8, utf-8;q=0.5, *;q=0.5   \n",
       "\n",
       "  Accept-Language            Host  \\\n",
       "0              en  localhost:8080   \n",
       "1              en  localhost:8080   \n",
       "\n",
       "                                        Cookie Connection  anomalous  \\\n",
       "0  JSESSIONID=EA414B3E327DED6875848530C864BD8F      close      False   \n",
       "1  JSESSIONID=54E25FF4B7F0E4E855B112F882E9EEA5      close      False   \n",
       "\n",
       "  Content-Type Content-Length body      browser  \\\n",
       "0          NaN            NaN  NaN  Mozilla/5.0   \n",
       "1          NaN            NaN  NaN  Mozilla/5.0   \n",
       "\n",
       "                 system-information                  platform  protocol  \\\n",
       "0  compatible; Konqueror/3.5; Linux  KHTML/3.5.8 (like Gecko)  HTTP/1.1   \n",
       "1  compatible; Konqueror/3.5; Linux  KHTML/3.5.8 (like Gecko)  HTTP/1.1   \n",
       "\n",
       "                                           url_only  \\\n",
       "0          http://localhost:8080/tienda1/index.jsp    \n",
       "1  http://localhost:8080/tienda1/publico/anadir.jsp   \n",
       "\n",
       "                                           url_words  \\\n",
       "0  [http:, , localhost:8080, tienda1, index.jsp H...   \n",
       "1  [http:, , localhost:8080, tienda1, publico, an...   \n",
       "\n",
       "                                           arg_words  num_of_args  \\\n",
       "0                                                 []            0   \n",
       "1  [id, 1, nombre, Jam%F3n+Ib%E9rico, precio, 39,...           10   \n",
       "\n",
       "   max_length_of_args  min_length_of_args  total_length_args  \\\n",
       "0                   0                   0                  0   \n",
       "1                  28                   1                 74   \n",
       "\n",
       "   total_length_request  lenght_of_path  port_is_common  num_of_paths  \\\n",
       "0                    48              40            True             6   \n",
       "1                   132              48            True             7   \n",
       "\n",
       "   num_sql_words  num_batch_words  num_special_chars  \n",
       "0              0                0                  0  \n",
       "1              0                0                  9  "
      ]
     },
     "execution_count": 16,
     "metadata": {},
     "output_type": "execute_result"
    }
   ],
   "source": [
    "df.head(2)"
   ]
  },
  {
   "cell_type": "code",
   "execution_count": 17,
   "id": "working-health",
   "metadata": {},
   "outputs": [
    {
     "data": {
      "text/html": [
       "<div>\n",
       "<style scoped>\n",
       "    .dataframe tbody tr th:only-of-type {\n",
       "        vertical-align: middle;\n",
       "    }\n",
       "\n",
       "    .dataframe tbody tr th {\n",
       "        vertical-align: top;\n",
       "    }\n",
       "\n",
       "    .dataframe thead th {\n",
       "        text-align: right;\n",
       "    }\n",
       "</style>\n",
       "<table border=\"1\" class=\"dataframe\">\n",
       "  <thead>\n",
       "    <tr style=\"text-align: right;\">\n",
       "      <th></th>\n",
       "      <th>method</th>\n",
       "      <th>Host</th>\n",
       "      <th>anomalous</th>\n",
       "      <th>Content-Type</th>\n",
       "      <th>Content-Length</th>\n",
       "      <th>browser</th>\n",
       "      <th>system-information</th>\n",
       "      <th>platform</th>\n",
       "      <th>protocol</th>\n",
       "      <th>url_words</th>\n",
       "      <th>arg_words</th>\n",
       "      <th>num_of_args</th>\n",
       "      <th>max_length_of_args</th>\n",
       "      <th>min_length_of_args</th>\n",
       "      <th>total_length_args</th>\n",
       "      <th>total_length_request</th>\n",
       "      <th>lenght_of_path</th>\n",
       "      <th>port_is_common</th>\n",
       "      <th>num_of_paths</th>\n",
       "      <th>num_sql_words</th>\n",
       "      <th>num_batch_words</th>\n",
       "      <th>num_special_chars</th>\n",
       "    </tr>\n",
       "  </thead>\n",
       "  <tbody>\n",
       "    <tr>\n",
       "      <th>0</th>\n",
       "      <td>GET</td>\n",
       "      <td>localhost:8080</td>\n",
       "      <td>False</td>\n",
       "      <td>NaN</td>\n",
       "      <td>NaN</td>\n",
       "      <td>Mozilla/5.0</td>\n",
       "      <td>compatible; Konqueror/3.5; Linux</td>\n",
       "      <td>KHTML/3.5.8 (like Gecko)</td>\n",
       "      <td>HTTP/1.1</td>\n",
       "      <td>[http:, , localhost:8080, tienda1, index.jsp H...</td>\n",
       "      <td>[]</td>\n",
       "      <td>0</td>\n",
       "      <td>0</td>\n",
       "      <td>0</td>\n",
       "      <td>0</td>\n",
       "      <td>48</td>\n",
       "      <td>40</td>\n",
       "      <td>True</td>\n",
       "      <td>6</td>\n",
       "      <td>0</td>\n",
       "      <td>0</td>\n",
       "      <td>0</td>\n",
       "    </tr>\n",
       "  </tbody>\n",
       "</table>\n",
       "</div>"
      ],
      "text/plain": [
       "  method            Host  anomalous Content-Type Content-Length      browser  \\\n",
       "0    GET  localhost:8080      False          NaN            NaN  Mozilla/5.0   \n",
       "\n",
       "                 system-information                  platform  protocol  \\\n",
       "0  compatible; Konqueror/3.5; Linux  KHTML/3.5.8 (like Gecko)  HTTP/1.1   \n",
       "\n",
       "                                           url_words arg_words  num_of_args  \\\n",
       "0  [http:, , localhost:8080, tienda1, index.jsp H...        []            0   \n",
       "\n",
       "   max_length_of_args  min_length_of_args  total_length_args  \\\n",
       "0                   0                   0                  0   \n",
       "\n",
       "   total_length_request  lenght_of_path  port_is_common  num_of_paths  \\\n",
       "0                    48              40            True             6   \n",
       "\n",
       "   num_sql_words  num_batch_words  num_special_chars  \n",
       "0              0                0                  0  "
      ]
     },
     "execution_count": 17,
     "metadata": {},
     "output_type": "execute_result"
    }
   ],
   "source": [
    "#drop unused cells\n",
    "df = df.drop(['body','url_only','Accept','Pragma','Cache-control', 'url', 'User-Agent','Cookie','Accept-Language', 'Accept-Encoding', 'Accept-Charset','Connection'], 1)\n",
    "df.head(1)"
   ]
  },
  {
   "cell_type": "code",
   "execution_count": 18,
   "id": "smooth-sampling",
   "metadata": {},
   "outputs": [
    {
     "name": "stderr",
     "output_type": "stream",
     "text": [
      "c:\\users\\aisha\\appdata\\local\\programs\\python\\python39\\lib\\site-packages\\sklearn\\utils\\deprecation.py:87: FutureWarning: Function get_feature_names is deprecated; get_feature_names is deprecated in 1.0 and will be removed in 1.2. Please use get_feature_names_out instead.\n",
      "  warnings.warn(msg, category=FutureWarning)\n"
     ]
    },
    {
     "data": {
      "text/html": [
       "<div>\n",
       "<style scoped>\n",
       "    .dataframe tbody tr th:only-of-type {\n",
       "        vertical-align: middle;\n",
       "    }\n",
       "\n",
       "    .dataframe tbody tr th {\n",
       "        vertical-align: top;\n",
       "    }\n",
       "\n",
       "    .dataframe thead th {\n",
       "        text-align: right;\n",
       "    }\n",
       "</style>\n",
       "<table border=\"1\" class=\"dataframe\">\n",
       "  <thead>\n",
       "    <tr style=\"text-align: right;\">\n",
       "      <th></th>\n",
       "      <th>anomalous</th>\n",
       "      <th>Content-Length</th>\n",
       "      <th>url_words</th>\n",
       "      <th>arg_words</th>\n",
       "      <th>num_of_args</th>\n",
       "      <th>max_length_of_args</th>\n",
       "      <th>min_length_of_args</th>\n",
       "      <th>total_length_args</th>\n",
       "      <th>total_length_request</th>\n",
       "      <th>lenght_of_path</th>\n",
       "      <th>port_is_common</th>\n",
       "      <th>num_of_paths</th>\n",
       "      <th>num_sql_words</th>\n",
       "      <th>num_batch_words</th>\n",
       "      <th>num_special_chars</th>\n",
       "      <th>x0_GET</th>\n",
       "      <th>x0_POST</th>\n",
       "      <th>x0_PUT</th>\n",
       "      <th>x1_localhost:8080</th>\n",
       "      <th>x1_localhost:9090</th>\n",
       "      <th>x2_application/x-www-form-urlencoded</th>\n",
       "      <th>x2_nan</th>\n",
       "      <th>x3_Mozilla/5.0</th>\n",
       "      <th>x4_KHTML/3.5.8 (like Gecko)</th>\n",
       "      <th>x5_HTTP/1.1</th>\n",
       "      <th>x6_compatible; Konqueror/3.5; Linux</th>\n",
       "    </tr>\n",
       "  </thead>\n",
       "  <tbody>\n",
       "    <tr>\n",
       "      <th>0</th>\n",
       "      <td>False</td>\n",
       "      <td>0</td>\n",
       "      <td>[http:, , localhost:8080, tienda1, index.jsp H...</td>\n",
       "      <td>[]</td>\n",
       "      <td>0</td>\n",
       "      <td>0</td>\n",
       "      <td>0</td>\n",
       "      <td>0</td>\n",
       "      <td>48</td>\n",
       "      <td>40</td>\n",
       "      <td>True</td>\n",
       "      <td>6</td>\n",
       "      <td>0</td>\n",
       "      <td>0</td>\n",
       "      <td>0</td>\n",
       "      <td>1.0</td>\n",
       "      <td>0.0</td>\n",
       "      <td>0.0</td>\n",
       "      <td>1.0</td>\n",
       "      <td>0.0</td>\n",
       "      <td>0.0</td>\n",
       "      <td>1.0</td>\n",
       "      <td>1.0</td>\n",
       "      <td>1.0</td>\n",
       "      <td>1.0</td>\n",
       "      <td>1.0</td>\n",
       "    </tr>\n",
       "  </tbody>\n",
       "</table>\n",
       "</div>"
      ],
      "text/plain": [
       "   anomalous Content-Length  \\\n",
       "0      False              0   \n",
       "\n",
       "                                           url_words arg_words  num_of_args  \\\n",
       "0  [http:, , localhost:8080, tienda1, index.jsp H...        []            0   \n",
       "\n",
       "   max_length_of_args  min_length_of_args  total_length_args  \\\n",
       "0                   0                   0                  0   \n",
       "\n",
       "   total_length_request  lenght_of_path  port_is_common  num_of_paths  \\\n",
       "0                    48              40            True             6   \n",
       "\n",
       "   num_sql_words  num_batch_words  num_special_chars  x0_GET  x0_POST  x0_PUT  \\\n",
       "0              0                0                  0     1.0      0.0     0.0   \n",
       "\n",
       "   x1_localhost:8080  x1_localhost:9090  x2_application/x-www-form-urlencoded  \\\n",
       "0                1.0                0.0                                   0.0   \n",
       "\n",
       "   x2_nan  x3_Mozilla/5.0  x4_KHTML/3.5.8 (like Gecko)  x5_HTTP/1.1  \\\n",
       "0     1.0             1.0                          1.0          1.0   \n",
       "\n",
       "   x6_compatible; Konqueror/3.5; Linux  \n",
       "0                                  1.0  "
      ]
     },
     "execution_count": 18,
     "metadata": {},
     "output_type": "execute_result"
    }
   ],
   "source": [
    "    \n",
    "#one hot encoding\n",
    "to_encode_one_hot = ['method', 'Host','Content-Type', 'browser', 'platform','protocol', 'system-information']\n",
    "enc = preprocessing.OneHotEncoder(sparse=False, handle_unknown='ignore')\n",
    "enc.fit(df[to_encode_one_hot] )\n",
    "encoded = pd.DataFrame( enc.transform( df[to_encode_one_hot] ), columns=enc.get_feature_names() )\n",
    "df = pd.concat ([df, encoded] , axis=1)\n",
    "\n",
    "#fill nulls\n",
    "df['Content-Length'] = df['Content-Length'].fillna(0)\n",
    "\n",
    "df = df.drop(to_encode_one_hot, axis=1)\n",
    "df.head(1)"
   ]
  },
  {
   "cell_type": "code",
   "execution_count": 19,
   "id": "nervous-stream",
   "metadata": {},
   "outputs": [],
   "source": [
    "#df.drop(['url_words', 'arg_words'],1).to_csv('../data/interim/2_extracted_features_without_word_vector.csv')"
   ]
  },
  {
   "cell_type": "markdown",
   "id": "closing-brighton",
   "metadata": {},
   "source": [
    "####  Vectorization"
   ]
  },
  {
   "cell_type": "code",
   "execution_count": 20,
   "id": "supreme-lease",
   "metadata": {},
   "outputs": [
    {
     "data": {
      "text/plain": [
       "[TaggedDocument(words=[], tags=[0]),\n",
       " TaggedDocument(words=['id', '1', 'nombre', 'Jam%F3n+Ib%E9rico', 'precio', '39', 'cantidad', '41', 'B1', 'A%F1adir+al+carrito HTTP/1.1'], tags=[1])]"
      ]
     },
     "execution_count": 20,
     "metadata": {},
     "output_type": "execute_result"
    }
   ],
   "source": [
    "# doc2vec vecotirzation\n",
    "\n",
    "#df['combined_words'] = df['url_words'] + df['arg_words']\n",
    "#tokenize and tag the card text\n",
    "card_docs = [TaggedDocument(words, [i]) \n",
    "             for i, words in enumerate(df.arg_words)]\n",
    "card_docs[0:2]"
   ]
  },
  {
   "cell_type": "code",
   "execution_count": 21,
   "id": "spread-correction",
   "metadata": {},
   "outputs": [],
   "source": [
    "#create model\n",
    "model = Doc2Vec(vector_size=96, min_count=1, epochs = 30)\n",
    "model.build_vocab(card_docs)\n",
    "model.train(card_docs, total_examples=model.corpus_count, epochs=model.epochs)\n"
   ]
  },
  {
   "cell_type": "code",
   "execution_count": 22,
   "id": "amended-drilling",
   "metadata": {
    "scrolled": true
   },
   "outputs": [],
   "source": [
    "#generate vectors\n",
    "card2vec = [model.infer_vector(df['arg_words'][i]) \n",
    "            for i in range(0,len(df['arg_words']))]\n",
    "#card2vec[0]"
   ]
  },
  {
   "cell_type": "code",
   "execution_count": 23,
   "id": "based-major",
   "metadata": {},
   "outputs": [],
   "source": [
    "#Create a list of lists\n",
    "dtv= np.array(card2vec).tolist()\n",
    "\n",
    "#set list to dataframe column\n",
    "#df['card2vec'] = dtv\n",
    "#df.head(2)"
   ]
  },
  {
   "cell_type": "code",
   "execution_count": 24,
   "id": "innocent-chuck",
   "metadata": {},
   "outputs": [
    {
     "data": {
      "text/plain": [
       "(97065, 97)"
      ]
     },
     "execution_count": 24,
     "metadata": {},
     "output_type": "execute_result"
    }
   ],
   "source": [
    "#create df out of vectors\n",
    "df_vecs = pd.DataFrame( dtv )\n",
    "df_vecs['anomalous'] = df['anomalous']\n",
    "df_vecs.shape"
   ]
  },
  {
   "cell_type": "code",
   "execution_count": 25,
   "id": "identical-accuracy",
   "metadata": {},
   "outputs": [],
   "source": [
    "#url vectorization omitted\n",
    "#found to be not useful\n"
   ]
  },
  {
   "cell_type": "code",
   "execution_count": 26,
   "id": "usual-shareware",
   "metadata": {},
   "outputs": [],
   "source": [
    "#df = df.drop(['url_words', 'arg_words', 'combined_words'],axis=1)\n",
    "df = df.drop(['url_words', 'arg_words'],axis=1)"
   ]
  },
  {
   "cell_type": "code",
   "execution_count": 27,
   "id": "dominican-spray",
   "metadata": {},
   "outputs": [
    {
     "data": {
      "text/html": [
       "<div>\n",
       "<style scoped>\n",
       "    .dataframe tbody tr th:only-of-type {\n",
       "        vertical-align: middle;\n",
       "    }\n",
       "\n",
       "    .dataframe tbody tr th {\n",
       "        vertical-align: top;\n",
       "    }\n",
       "\n",
       "    .dataframe thead th {\n",
       "        text-align: right;\n",
       "    }\n",
       "</style>\n",
       "<table border=\"1\" class=\"dataframe\">\n",
       "  <thead>\n",
       "    <tr style=\"text-align: right;\">\n",
       "      <th></th>\n",
       "      <th>Content-Length</th>\n",
       "      <th>num_of_args</th>\n",
       "      <th>max_length_of_args</th>\n",
       "      <th>min_length_of_args</th>\n",
       "      <th>total_length_args</th>\n",
       "      <th>total_length_request</th>\n",
       "      <th>lenght_of_path</th>\n",
       "      <th>port_is_common</th>\n",
       "      <th>num_of_paths</th>\n",
       "      <th>num_sql_words</th>\n",
       "      <th>num_batch_words</th>\n",
       "      <th>num_special_chars</th>\n",
       "      <th>x0_GET</th>\n",
       "      <th>x0_POST</th>\n",
       "      <th>x0_PUT</th>\n",
       "      <th>x1_localhost:8080</th>\n",
       "      <th>x1_localhost:9090</th>\n",
       "      <th>x2_application/x-www-form-urlencoded</th>\n",
       "      <th>x2_nan</th>\n",
       "      <th>x3_Mozilla/5.0</th>\n",
       "      <th>x4_KHTML/3.5.8 (like Gecko)</th>\n",
       "      <th>x5_HTTP/1.1</th>\n",
       "      <th>x6_compatible; Konqueror/3.5; Linux</th>\n",
       "      <th>0</th>\n",
       "      <th>1</th>\n",
       "      <th>2</th>\n",
       "      <th>3</th>\n",
       "      <th>4</th>\n",
       "      <th>5</th>\n",
       "      <th>6</th>\n",
       "      <th>7</th>\n",
       "      <th>8</th>\n",
       "      <th>9</th>\n",
       "      <th>10</th>\n",
       "      <th>11</th>\n",
       "      <th>12</th>\n",
       "      <th>13</th>\n",
       "      <th>14</th>\n",
       "      <th>15</th>\n",
       "      <th>16</th>\n",
       "      <th>17</th>\n",
       "      <th>18</th>\n",
       "      <th>19</th>\n",
       "      <th>20</th>\n",
       "      <th>21</th>\n",
       "      <th>22</th>\n",
       "      <th>23</th>\n",
       "      <th>24</th>\n",
       "      <th>25</th>\n",
       "      <th>26</th>\n",
       "      <th>27</th>\n",
       "      <th>28</th>\n",
       "      <th>29</th>\n",
       "      <th>30</th>\n",
       "      <th>31</th>\n",
       "      <th>32</th>\n",
       "      <th>33</th>\n",
       "      <th>34</th>\n",
       "      <th>35</th>\n",
       "      <th>36</th>\n",
       "      <th>37</th>\n",
       "      <th>38</th>\n",
       "      <th>39</th>\n",
       "      <th>40</th>\n",
       "      <th>41</th>\n",
       "      <th>42</th>\n",
       "      <th>43</th>\n",
       "      <th>44</th>\n",
       "      <th>45</th>\n",
       "      <th>46</th>\n",
       "      <th>47</th>\n",
       "      <th>48</th>\n",
       "      <th>49</th>\n",
       "      <th>50</th>\n",
       "      <th>51</th>\n",
       "      <th>52</th>\n",
       "      <th>53</th>\n",
       "      <th>54</th>\n",
       "      <th>55</th>\n",
       "      <th>56</th>\n",
       "      <th>57</th>\n",
       "      <th>58</th>\n",
       "      <th>59</th>\n",
       "      <th>60</th>\n",
       "      <th>61</th>\n",
       "      <th>62</th>\n",
       "      <th>63</th>\n",
       "      <th>64</th>\n",
       "      <th>65</th>\n",
       "      <th>66</th>\n",
       "      <th>67</th>\n",
       "      <th>68</th>\n",
       "      <th>69</th>\n",
       "      <th>70</th>\n",
       "      <th>71</th>\n",
       "      <th>72</th>\n",
       "      <th>73</th>\n",
       "      <th>74</th>\n",
       "      <th>75</th>\n",
       "      <th>76</th>\n",
       "      <th>77</th>\n",
       "      <th>78</th>\n",
       "      <th>79</th>\n",
       "      <th>80</th>\n",
       "      <th>81</th>\n",
       "      <th>82</th>\n",
       "      <th>83</th>\n",
       "      <th>84</th>\n",
       "      <th>85</th>\n",
       "      <th>86</th>\n",
       "      <th>87</th>\n",
       "      <th>88</th>\n",
       "      <th>89</th>\n",
       "      <th>90</th>\n",
       "      <th>91</th>\n",
       "      <th>92</th>\n",
       "      <th>93</th>\n",
       "      <th>94</th>\n",
       "      <th>95</th>\n",
       "      <th>anomalous</th>\n",
       "    </tr>\n",
       "  </thead>\n",
       "  <tbody>\n",
       "    <tr>\n",
       "      <th>0</th>\n",
       "      <td>0</td>\n",
       "      <td>0</td>\n",
       "      <td>0</td>\n",
       "      <td>0</td>\n",
       "      <td>0</td>\n",
       "      <td>48</td>\n",
       "      <td>40</td>\n",
       "      <td>True</td>\n",
       "      <td>6</td>\n",
       "      <td>0</td>\n",
       "      <td>0</td>\n",
       "      <td>0</td>\n",
       "      <td>1.0</td>\n",
       "      <td>0.0</td>\n",
       "      <td>0.0</td>\n",
       "      <td>1.0</td>\n",
       "      <td>0.0</td>\n",
       "      <td>0.0</td>\n",
       "      <td>1.0</td>\n",
       "      <td>1.0</td>\n",
       "      <td>1.0</td>\n",
       "      <td>1.0</td>\n",
       "      <td>1.0</td>\n",
       "      <td>0.000508</td>\n",
       "      <td>0.002242</td>\n",
       "      <td>0.00107</td>\n",
       "      <td>0.000468</td>\n",
       "      <td>-0.000795</td>\n",
       "      <td>0.00152</td>\n",
       "      <td>-0.00065</td>\n",
       "      <td>0.004081</td>\n",
       "      <td>0.00483</td>\n",
       "      <td>-0.001214</td>\n",
       "      <td>0.003039</td>\n",
       "      <td>0.000301</td>\n",
       "      <td>0.000709</td>\n",
       "      <td>0.004433</td>\n",
       "      <td>-0.004468</td>\n",
       "      <td>-0.004301</td>\n",
       "      <td>-0.004998</td>\n",
       "      <td>0.003465</td>\n",
       "      <td>0.002897</td>\n",
       "      <td>0.003854</td>\n",
       "      <td>0.004986</td>\n",
       "      <td>0.003116</td>\n",
       "      <td>-0.000401</td>\n",
       "      <td>0.002922</td>\n",
       "      <td>-0.003976</td>\n",
       "      <td>0.001458</td>\n",
       "      <td>-0.003715</td>\n",
       "      <td>0.004632</td>\n",
       "      <td>0.000228</td>\n",
       "      <td>-0.000889</td>\n",
       "      <td>-0.002453</td>\n",
       "      <td>0.002857</td>\n",
       "      <td>-0.000457</td>\n",
       "      <td>0.000713</td>\n",
       "      <td>-0.005013</td>\n",
       "      <td>0.001225</td>\n",
       "      <td>0.001168</td>\n",
       "      <td>0.001218</td>\n",
       "      <td>0.004622</td>\n",
       "      <td>0.001894</td>\n",
       "      <td>-0.001463</td>\n",
       "      <td>-0.000656</td>\n",
       "      <td>0.002059</td>\n",
       "      <td>-0.004581</td>\n",
       "      <td>0.001737</td>\n",
       "      <td>0.001777</td>\n",
       "      <td>-0.003017</td>\n",
       "      <td>-0.003865</td>\n",
       "      <td>-0.001923</td>\n",
       "      <td>-0.00142</td>\n",
       "      <td>0.000731</td>\n",
       "      <td>-0.00064</td>\n",
       "      <td>0.005087</td>\n",
       "      <td>-0.004145</td>\n",
       "      <td>-0.003033</td>\n",
       "      <td>-0.003528</td>\n",
       "      <td>0.001595</td>\n",
       "      <td>-0.00257</td>\n",
       "      <td>-0.000351</td>\n",
       "      <td>-0.002662</td>\n",
       "      <td>-0.003552</td>\n",
       "      <td>-0.004059</td>\n",
       "      <td>0.001628</td>\n",
       "      <td>-0.003769</td>\n",
       "      <td>-0.003161</td>\n",
       "      <td>-0.001367</td>\n",
       "      <td>0.003344</td>\n",
       "      <td>-0.004197</td>\n",
       "      <td>0.00352</td>\n",
       "      <td>-0.004207</td>\n",
       "      <td>0.004963</td>\n",
       "      <td>-0.000327</td>\n",
       "      <td>0.004966</td>\n",
       "      <td>0.001092</td>\n",
       "      <td>0.002492</td>\n",
       "      <td>-0.0048</td>\n",
       "      <td>-0.002262</td>\n",
       "      <td>-0.003956</td>\n",
       "      <td>-0.002124</td>\n",
       "      <td>-0.003972</td>\n",
       "      <td>-0.001896</td>\n",
       "      <td>-0.000893</td>\n",
       "      <td>-0.00454</td>\n",
       "      <td>0.002005</td>\n",
       "      <td>0.000694</td>\n",
       "      <td>-0.002444</td>\n",
       "      <td>0.000242</td>\n",
       "      <td>-0.00423</td>\n",
       "      <td>0.000791</td>\n",
       "      <td>0.004472</td>\n",
       "      <td>-0.00189</td>\n",
       "      <td>0.001744</td>\n",
       "      <td>-0.003835</td>\n",
       "      <td>0.002253</td>\n",
       "      <td>-0.002194</td>\n",
       "      <td>-0.0033</td>\n",
       "      <td>False</td>\n",
       "    </tr>\n",
       "  </tbody>\n",
       "</table>\n",
       "</div>"
      ],
      "text/plain": [
       "  Content-Length  num_of_args  max_length_of_args  min_length_of_args  \\\n",
       "0              0            0                   0                   0   \n",
       "\n",
       "   total_length_args  total_length_request  lenght_of_path  port_is_common  \\\n",
       "0                  0                    48              40            True   \n",
       "\n",
       "   num_of_paths  num_sql_words  num_batch_words  num_special_chars  x0_GET  \\\n",
       "0             6              0                0                  0     1.0   \n",
       "\n",
       "   x0_POST  x0_PUT  x1_localhost:8080  x1_localhost:9090  \\\n",
       "0      0.0     0.0                1.0                0.0   \n",
       "\n",
       "   x2_application/x-www-form-urlencoded  x2_nan  x3_Mozilla/5.0  \\\n",
       "0                                   0.0     1.0             1.0   \n",
       "\n",
       "   x4_KHTML/3.5.8 (like Gecko)  x5_HTTP/1.1  \\\n",
       "0                          1.0          1.0   \n",
       "\n",
       "   x6_compatible; Konqueror/3.5; Linux         0         1        2         3  \\\n",
       "0                                  1.0  0.000508  0.002242  0.00107  0.000468   \n",
       "\n",
       "          4        5        6         7        8         9        10  \\\n",
       "0 -0.000795  0.00152 -0.00065  0.004081  0.00483 -0.001214  0.003039   \n",
       "\n",
       "         11        12        13        14        15        16        17  \\\n",
       "0  0.000301  0.000709  0.004433 -0.004468 -0.004301 -0.004998  0.003465   \n",
       "\n",
       "         18        19        20        21        22        23        24  \\\n",
       "0  0.002897  0.003854  0.004986  0.003116 -0.000401  0.002922 -0.003976   \n",
       "\n",
       "         25        26        27        28        29        30        31  \\\n",
       "0  0.001458 -0.003715  0.004632  0.000228 -0.000889 -0.002453  0.002857   \n",
       "\n",
       "         32        33        34        35        36        37        38  \\\n",
       "0 -0.000457  0.000713 -0.005013  0.001225  0.001168  0.001218  0.004622   \n",
       "\n",
       "         39        40        41        42        43        44        45  \\\n",
       "0  0.001894 -0.001463 -0.000656  0.002059 -0.004581  0.001737  0.001777   \n",
       "\n",
       "         46        47        48       49        50       51        52  \\\n",
       "0 -0.003017 -0.003865 -0.001923 -0.00142  0.000731 -0.00064  0.005087   \n",
       "\n",
       "         53        54        55        56       57        58        59  \\\n",
       "0 -0.004145 -0.003033 -0.003528  0.001595 -0.00257 -0.000351 -0.002662   \n",
       "\n",
       "         60        61        62        63        64        65        66  \\\n",
       "0 -0.003552 -0.004059  0.001628 -0.003769 -0.003161 -0.001367  0.003344   \n",
       "\n",
       "         67       68        69        70        71        72        73  \\\n",
       "0 -0.004197  0.00352 -0.004207  0.004963 -0.000327  0.004966  0.001092   \n",
       "\n",
       "         74      75        76        77        78        79        80  \\\n",
       "0  0.002492 -0.0048 -0.002262 -0.003956 -0.002124 -0.003972 -0.001896   \n",
       "\n",
       "         81       82        83        84        85        86       87  \\\n",
       "0 -0.000893 -0.00454  0.002005  0.000694 -0.002444  0.000242 -0.00423   \n",
       "\n",
       "         88        89       90        91        92        93        94  \\\n",
       "0  0.000791  0.004472 -0.00189  0.001744 -0.003835  0.002253 -0.002194   \n",
       "\n",
       "       95  anomalous  \n",
       "0 -0.0033      False  "
      ]
     },
     "execution_count": 27,
     "metadata": {},
     "output_type": "execute_result"
    }
   ],
   "source": [
    "#df = df.drop(['card2vec'],1)\n",
    "\n",
    "df_combined = df.drop(['anomalous'],1).join(df_vecs)\n",
    "df_combined.head(1)"
   ]
  },
  {
   "cell_type": "code",
   "execution_count": 28,
   "id": "widespread-ecology",
   "metadata": {},
   "outputs": [],
   "source": [
    "#df_combined.to_csv('../data/interim/3_extracted_features_with_word_vectors.csv')"
   ]
  },
  {
   "cell_type": "markdown",
   "id": "brilliant-karaoke",
   "metadata": {},
   "source": [
    "# Models"
   ]
  },
  {
   "cell_type": "code",
   "execution_count": 29,
   "id": "becoming-cincinnati",
   "metadata": {},
   "outputs": [
    {
     "data": {
      "text/plain": [
       "False    72000\n",
       "True     25065\n",
       "Name: anomalous, dtype: int64"
      ]
     },
     "execution_count": 29,
     "metadata": {},
     "output_type": "execute_result"
    }
   ],
   "source": [
    "df['anomalous'].value_counts()"
   ]
  },
  {
   "cell_type": "code",
   "execution_count": 30,
   "id": "structural-youth",
   "metadata": {},
   "outputs": [
    {
     "data": {
      "text/plain": [
       "(67945, 119)"
      ]
     },
     "execution_count": 30,
     "metadata": {},
     "output_type": "execute_result"
    }
   ],
   "source": [
    "#without vectors\n",
    "#X_train, X_test, y_train, y_test = train_test_split(df.drop('anomalous',1), df['anomalous'], \n",
    "#                                                   test_size=0.3, random_state=42, shuffle = True)\n",
    "\n",
    "#with vectors\n",
    "X_train, X_test, y_train, y_test = train_test_split(df_combined.drop('anomalous',1), df['anomalous'], \n",
    "                                                    test_size=0.3, random_state=42, shuffle = True)\n",
    "X_train.shape"
   ]
  },
  {
   "cell_type": "markdown",
   "id": "intensive-solution",
   "metadata": {},
   "source": [
    "##  Decision Tree"
   ]
  },
  {
   "cell_type": "code",
   "execution_count": 30,
   "id": "advised-catering",
   "metadata": {
    "scrolled": true
   },
   "outputs": [
    {
     "name": "stderr",
     "output_type": "stream",
     "text": [
      "c:\\users\\aisha\\appdata\\local\\programs\\python\\python39\\lib\\site-packages\\sklearn\\utils\\validation.py:1675: FutureWarning: Feature names only support names that are all strings. Got feature names with dtypes: ['int', 'str']. An error will be raised in 1.2.\n",
      "  warnings.warn(\n",
      "c:\\users\\aisha\\appdata\\local\\programs\\python\\python39\\lib\\site-packages\\sklearn\\utils\\validation.py:1675: FutureWarning: Feature names only support names that are all strings. Got feature names with dtypes: ['int', 'str']. An error will be raised in 1.2.\n",
      "  warnings.warn(\n"
     ]
    }
   ],
   "source": [
    "#train model\n",
    "clf = tree.DecisionTreeClassifier()\n",
    "clf = clf.fit(X_train, y_train)\n",
    "predicted = clf.predict( X_test)"
   ]
  },
  {
   "cell_type": "code",
   "execution_count": 31,
   "id": "small-impact",
   "metadata": {},
   "outputs": [
    {
     "name": "stdout",
     "output_type": "stream",
     "text": [
      "Test Set:\n",
      "              precision    recall  f1-score   support\n",
      "\n",
      "       False       0.96      0.96      0.96     21649\n",
      "        True       0.89      0.87      0.88      7471\n",
      "\n",
      "    accuracy                           0.94     29120\n",
      "   macro avg       0.93      0.92      0.92     29120\n",
      "weighted avg       0.94      0.94      0.94     29120\n",
      "\n",
      "\n",
      "Training Set:\n"
     ]
    },
    {
     "name": "stderr",
     "output_type": "stream",
     "text": [
      "c:\\users\\aisha\\appdata\\local\\programs\\python\\python39\\lib\\site-packages\\sklearn\\utils\\validation.py:1675: FutureWarning: Feature names only support names that are all strings. Got feature names with dtypes: ['int', 'str']. An error will be raised in 1.2.\n",
      "  warnings.warn(\n"
     ]
    },
    {
     "name": "stdout",
     "output_type": "stream",
     "text": [
      "              precision    recall  f1-score   support\n",
      "\n",
      "       False       0.99      1.00      1.00     50351\n",
      "        True       1.00      0.98      0.99     17594\n",
      "\n",
      "    accuracy                           0.99     67945\n",
      "   macro avg       1.00      0.99      0.99     67945\n",
      "weighted avg       0.99      0.99      0.99     67945\n",
      "\n"
     ]
    }
   ],
   "source": [
    "print(\"Test Set:\")\n",
    "print( metrics.classification_report(y_test, predicted) )\n",
    "\n",
    "print(\"\\nTraining Set:\")\n",
    "print( metrics.classification_report(y_train, clf.predict( X_train)) )"
   ]
  },
  {
   "cell_type": "code",
   "execution_count": 32,
   "id": "fifty-final",
   "metadata": {},
   "outputs": [],
   "source": [
    "#print to csv\n",
    "#df_predicted = pd.DataFrame(X_test[0:23])\n",
    "#df_predicted['anomalous_actual'] = y_test\n",
    "#df_predicted['anomalous_predicted'] = predicted\n",
    "#df_predicted.to_csv('../data/interim/4_prediction_resuls.csv')"
   ]
  },
  {
   "cell_type": "code",
   "execution_count": 33,
   "id": "placed-contents",
   "metadata": {},
   "outputs": [
    {
     "data": {
      "text/plain": [
       "array([[20882,   767],\n",
       "       [  939,  6532]], dtype=int64)"
      ]
     },
     "execution_count": 33,
     "metadata": {},
     "output_type": "execute_result"
    }
   ],
   "source": [
    "metrics.confusion_matrix( y_test,predicted)"
   ]
  },
  {
   "cell_type": "code",
   "execution_count": 34,
   "id": "future-think",
   "metadata": {},
   "outputs": [
    {
     "name": "stdout",
     "output_type": "stream",
     "text": [
      "max_length_of_args 0.14223649660923557\n",
      "total_length_request 0.06032056791726148\n",
      "lenght_of_path 0.09658517941057976\n",
      "num_of_paths 0.06918808227424016\n",
      "34 0.08889880361463785\n"
     ]
    }
   ],
   "source": [
    "#print important features\n",
    "for name, importance in zip(X_train.columns, clf.feature_importances_):\n",
    "    if importance>0.05:\n",
    "        print(name, importance)"
   ]
  },
  {
   "cell_type": "code",
   "execution_count": 35,
   "id": "ahead-disposal",
   "metadata": {},
   "outputs": [
    {
     "name": "stdout",
     "output_type": "stream",
     "text": [
      "              precision    recall  f1-score   support\n",
      "\n",
      "       False       0.88      0.95      0.92     21649\n",
      "        True       0.81      0.64      0.71      7471\n",
      "\n",
      "    accuracy                           0.87     29120\n",
      "   macro avg       0.85      0.79      0.81     29120\n",
      "weighted avg       0.87      0.87      0.86     29120\n",
      "\n"
     ]
    }
   ],
   "source": [
    "#same thing but with vector df_vecs only\n",
    "\n",
    "X_train, X_test, y_train, y_test = train_test_split(df_vecs.drop('anomalous',1), df_vecs['anomalous'], \n",
    "                                                    test_size=0.3, random_state=42, shuffle = True)\n",
    "\n",
    "#train model\n",
    "clf = tree.DecisionTreeClassifier()\n",
    "clf = clf.fit(X_train, y_train)\n",
    "\n",
    "predicted = clf.predict( X_test)\n",
    "print( metrics.classification_report(y_test, predicted) )"
   ]
  },
  {
   "cell_type": "code",
   "execution_count": 36,
   "id": "brave-evanescence",
   "metadata": {},
   "outputs": [
    {
     "name": "stdout",
     "output_type": "stream",
     "text": [
      "              precision    recall  f1-score   support\n",
      "\n",
      "       False       0.93      1.00      0.96     50351\n",
      "        True       1.00      0.78      0.88     17594\n",
      "\n",
      "    accuracy                           0.94     67945\n",
      "   macro avg       0.96      0.89      0.92     67945\n",
      "weighted avg       0.95      0.94      0.94     67945\n",
      "\n"
     ]
    }
   ],
   "source": [
    "#training set results\n",
    "predicted = clf.predict( X_train)\n",
    "print( metrics.classification_report(y_train, predicted) )"
   ]
  },
  {
   "cell_type": "markdown",
   "id": "adequate-uncertainty",
   "metadata": {},
   "source": [
    "## Random Forest  "
   ]
  },
  {
   "cell_type": "code",
   "execution_count": 47,
   "id": "under-builder",
   "metadata": {},
   "outputs": [
    {
     "name": "stderr",
     "output_type": "stream",
     "text": [
      "c:\\users\\aisha\\appdata\\local\\programs\\python\\python39\\lib\\site-packages\\sklearn\\utils\\validation.py:1675: FutureWarning: Feature names only support names that are all strings. Got feature names with dtypes: ['int', 'str']. An error will be raised in 1.2.\n",
      "  warnings.warn(\n",
      "c:\\users\\aisha\\appdata\\local\\programs\\python\\python39\\lib\\site-packages\\sklearn\\utils\\validation.py:1675: FutureWarning: Feature names only support names that are all strings. Got feature names with dtypes: ['int', 'str']. An error will be raised in 1.2.\n",
      "  warnings.warn(\n"
     ]
    },
    {
     "name": "stdout",
     "output_type": "stream",
     "text": [
      "              precision    recall  f1-score   support\n",
      "\n",
      "       False       0.97      0.99      0.98     21649\n",
      "        True       0.97      0.90      0.93      7471\n",
      "\n",
      "    accuracy                           0.97     29120\n",
      "   macro avg       0.97      0.94      0.95     29120\n",
      "weighted avg       0.97      0.97      0.97     29120\n",
      "\n"
     ]
    }
   ],
   "source": [
    "\n",
    "clf_rf = RandomForestClassifier(n_estimators=25, max_depth=20, random_state=0, warm_start=True, min_samples_leaf=2, \n",
    "                                 max_features='sqrt', min_samples_split=10)\n",
    "clf_rf.fit(X_train, y_train)\n",
    "predicted = clf_rf.predict(X_test)\n",
    "print( metrics.classification_report(y_test, predicted) )"
   ]
  },
  {
   "cell_type": "markdown",
   "id": "cordless-toolbox",
   "metadata": {},
   "source": [
    "## SVM - Support Vector Machine"
   ]
  },
  {
   "cell_type": "code",
   "execution_count": 52,
   "id": "potential-gallery",
   "metadata": {},
   "outputs": [
    {
     "name": "stdout",
     "output_type": "stream",
     "text": [
      "              precision    recall  f1-score   support\n",
      "\n",
      "       False       0.88      0.99      0.93     21649\n",
      "        True       0.96      0.63      0.76      7471\n",
      "\n",
      "    accuracy                           0.90     29120\n",
      "   macro avg       0.92      0.81      0.85     29120\n",
      "weighted avg       0.90      0.90      0.89     29120\n",
      "\n"
     ]
    }
   ],
   "source": [
    "#for j in ['linear', 'poly', 'rbf', 'sigmoid', 'precomputed']:\n",
    "clf_svm = make_pipeline(preprocessing.StandardScaler(), SVC(gamma=0.01,degree=3, kernel='rbf'))\n",
    "clf_svm.fit(X_train, y_train)\n",
    "predicted = clf_svm.predict(X_test)\n",
    "print( metrics.classification_report(y_test, predicted) )"
   ]
  },
  {
   "cell_type": "markdown",
   "id": "established-input",
   "metadata": {},
   "source": [
    "## Gradient Boost Tree"
   ]
  },
  {
   "cell_type": "code",
   "execution_count": 51,
   "id": "acting-magazine",
   "metadata": {},
   "outputs": [
    {
     "name": "stderr",
     "output_type": "stream",
     "text": [
      "c:\\users\\aisha\\appdata\\local\\programs\\python\\python39\\lib\\site-packages\\sklearn\\utils\\validation.py:1675: FutureWarning: Feature names only support names that are all strings. Got feature names with dtypes: ['int', 'str']. An error will be raised in 1.2.\n",
      "  warnings.warn(\n",
      "c:\\users\\aisha\\appdata\\local\\programs\\python\\python39\\lib\\site-packages\\sklearn\\utils\\validation.py:1675: FutureWarning: Feature names only support names that are all strings. Got feature names with dtypes: ['int', 'str']. An error will be raised in 1.2.\n",
      "  warnings.warn(\n"
     ]
    },
    {
     "name": "stdout",
     "output_type": "stream",
     "text": [
      "              precision    recall  f1-score   support\n",
      "\n",
      "       False       0.98      0.99      0.98     21649\n",
      "        True       0.97      0.94      0.96      7471\n",
      "\n",
      "    accuracy                           0.98     29120\n",
      "   macro avg       0.98      0.96      0.97     29120\n",
      "weighted avg       0.98      0.98      0.98     29120\n",
      "\n"
     ]
    }
   ],
   "source": [
    "\n",
    "clf_gb = GradientBoostingClassifier(n_estimators=25, learning_rate=1.0,\n",
    "                                    max_depth=20, random_state=0)\n",
    "clf_gb.fit(X_train, y_train)\n",
    "predicted = clf_gb.predict(X_test)\n",
    "print( metrics.classification_report(y_test, predicted) )"
   ]
  },
  {
   "cell_type": "markdown",
   "id": "streaming-retention",
   "metadata": {},
   "source": [
    "## Neural net - MLP"
   ]
  },
  {
   "cell_type": "code",
   "execution_count": null,
   "id": "ignored-athletics",
   "metadata": {},
   "outputs": [],
   "source": [
    "scaler = preprocessing.StandardScaler() \n",
    "scaler.fit(X_train)  \n",
    "X_train_scaled = scaler.transform(X_train) \n",
    "X_test_scaled = scaler.transform(X_test) "
   ]
  },
  {
   "cell_type": "code",
   "execution_count": 84,
   "id": "royal-questionnaire",
   "metadata": {},
   "outputs": [
    {
     "name": "stdout",
     "output_type": "stream",
     "text": [
      "              precision    recall  f1-score   support\n",
      "\n",
      "       False       0.98      0.99      0.99     21649\n",
      "        True       0.98      0.94      0.96      7471\n",
      "\n",
      "    accuracy                           0.98     29120\n",
      "   macro avg       0.98      0.97      0.97     29120\n",
      "weighted avg       0.98      0.98      0.98     29120\n",
      "\n"
     ]
    }
   ],
   "source": [
    "clf_mlp = MLPClassifier(solver='adam', alpha=1e-5, hidden_layer_sizes=(14, 10 ), random_state=1, max_iter=300, warm_start=True)\n",
    "clf_mlp.fit(X_train_scaled, y_train)\n",
    "predicted = clf_mlp.predict(X_test_scaled)\n",
    "print( metrics.classification_report(y_test, predicted) )                  "
   ]
  },
  {
   "cell_type": "markdown",
   "id": "stuffed-festival",
   "metadata": {},
   "source": [
    "## Ensemble Classifier"
   ]
  },
  {
   "cell_type": "code",
   "execution_count": 86,
   "id": "sought-initial",
   "metadata": {},
   "outputs": [],
   "source": [
    "from sklearn.ensemble import StackingClassifier, VotingClassifier"
   ]
  },
  {
   "cell_type": "code",
   "execution_count": 87,
   "id": "ranging-debut",
   "metadata": {},
   "outputs": [],
   "source": [
    "clf1 = RandomForestClassifier(n_estimators=25, max_depth=20, random_state=0, warm_start=True, min_samples_leaf=2, \n",
    "                                 max_features='sqrt', min_samples_split=10)\n",
    "clf2 = GradientBoostingClassifier(n_estimators=25, learning_rate=1.0,max_depth=20, random_state=0)\n",
    "clf3 = MLPClassifier(solver='adam', alpha=1e-5, hidden_layer_sizes=(14 , 10), random_state=1, max_iter=300, warm_start=True)"
   ]
  },
  {
   "cell_type": "markdown",
   "id": "everyday-fashion",
   "metadata": {},
   "source": [
    "### Voting Classifier"
   ]
  },
  {
   "cell_type": "code",
   "execution_count": 92,
   "id": "sufficient-correspondence",
   "metadata": {},
   "outputs": [
    {
     "name": "stdout",
     "output_type": "stream",
     "text": [
      "              precision    recall  f1-score   support\n",
      "\n",
      "       False       0.98      0.99      0.99     21649\n",
      "        True       0.98      0.94      0.96      7471\n",
      "\n",
      "    accuracy                           0.98     29120\n",
      "   macro avg       0.98      0.97      0.97     29120\n",
      "weighted avg       0.98      0.98      0.98     29120\n",
      "\n"
     ]
    }
   ],
   "source": [
    "ecl_voting = VotingClassifier(estimators=[('rf', clf1), ('grb', clf2), ('mlp', clf3)], weights=[1,1,1], voting='hard')\n",
    "ecl_voting.fit(X_train_scaled, y_train)\n",
    "predicted = ecl_voting.predict(X_test_scaled)\n",
    "print( metrics.classification_report(y_test, predicted) )  "
   ]
  },
  {
   "cell_type": "markdown",
   "id": "governmental-numbers",
   "metadata": {},
   "source": [
    "### Stacking Classifier"
   ]
  },
  {
   "cell_type": "code",
   "execution_count": 94,
   "id": "acute-myrtle",
   "metadata": {},
   "outputs": [
    {
     "name": "stdout",
     "output_type": "stream",
     "text": [
      "              precision    recall  f1-score   support\n",
      "\n",
      "       False       0.98      0.99      0.99     21649\n",
      "        True       0.98      0.95      0.97      7471\n",
      "\n",
      "    accuracy                           0.98     29120\n",
      "   macro avg       0.98      0.97      0.98     29120\n",
      "weighted avg       0.98      0.98      0.98     29120\n",
      "\n"
     ]
    }
   ],
   "source": [
    "ecl_stacking = StackingClassifier(estimators=[('rf', clf1), ('grb', clf2), ('mlp', clf3)])\n",
    "ecl_stacking.fit(X_train_scaled, y_train)\n",
    "predicted = ecl_stacking.predict(X_test_scaled)\n",
    "print( metrics.classification_report(y_test, predicted) )  "
   ]
  },
  {
   "cell_type": "code",
   "execution_count": null,
   "id": "unable-cowboy",
   "metadata": {},
   "outputs": [],
   "source": []
  }
 ],
 "metadata": {
  "kernelspec": {
   "display_name": "Python 3",
   "language": "python",
   "name": "python3"
  },
  "language_info": {
   "codemirror_mode": {
    "name": "ipython",
    "version": 3
   },
   "file_extension": ".py",
   "mimetype": "text/x-python",
   "name": "python",
   "nbconvert_exporter": "python",
   "pygments_lexer": "ipython3",
   "version": "3.9.0"
  }
 },
 "nbformat": 4,
 "nbformat_minor": 5
}
