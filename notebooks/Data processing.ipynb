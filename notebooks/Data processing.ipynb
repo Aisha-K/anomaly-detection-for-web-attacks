{
 "cells": [
  {
   "cell_type": "code",
   "execution_count": 1,
   "id": "acceptable-finance",
   "metadata": {},
   "outputs": [],
   "source": [
    "import pandas as pd, numpy as np\n",
    "import regex as re\n",
    "import time\n",
    "from gensim.models.doc2vec import Doc2Vec, TaggedDocument\n",
    "from gensim.models import Word2Vec\n",
    "from sklearn.model_selection import train_test_split\n",
    "from sklearn.ensemble import RandomForestClassifier, GradientBoostingClassifier\n",
    "from sklearn.svm import SVC\n",
    "from sklearn import preprocessing, metrics, tree\n",
    "from sklearn.pipeline import make_pipeline\n",
    "from sklearn.neural_network import MLPClassifier\n",
    "\n",
    "#global options\n",
    "pd.set_option('display.max_columns', None)"
   ]
  },
  {
   "cell_type": "markdown",
   "id": "normal-syndicate",
   "metadata": {},
   "source": [
    "## Read in data"
   ]
  },
  {
   "cell_type": "code",
   "execution_count": 2,
   "id": "vital-anime",
   "metadata": {},
   "outputs": [],
   "source": [
    "\n",
    "\n",
    "'''\n",
    "Outputs an array of dictionaries, with each dictionary representing a request.\n",
    "@param data_array an array containing each line of the txt file as an item\n",
    "'''\n",
    "def process_http_data(data_array, is_anomalous):\n",
    "    data_processed = []\n",
    "    i = 0 \n",
    "    while i < (len(data_array)-1):\n",
    "        data_item = {}\n",
    "        if data_array[i][0:3] == 'GET':\n",
    "            data_item['method']='GET'\n",
    "            data_item['url']= data_array[i][4:-1]\n",
    "            i+=1\n",
    "\n",
    "            while (i<len(data_array)-1) & (data_array[i]!='\\n') :\n",
    "                s = data_array[i].split(':',1)\n",
    "                data_item[ s[0] ] = s[1][1:-1]\n",
    "                i += 1\n",
    "            i +=2\n",
    "\n",
    "        elif (data_array[i][0:4] == 'POST') | (data_array[i][0:3] == 'PUT'):\n",
    "            if (data_array[i][0:3] == 'PUT'):\n",
    "                data_item['method']='PUT'\n",
    "            else:\n",
    "                data_item['method']='POST'\n",
    "            data_item['url']= data_array[i][5:-1]\n",
    "            i+=1\n",
    "\n",
    "            while data_array[i]!='\\n':\n",
    "                s = data_array[i].split(':',1)\n",
    "                data_item[s[0] ] = s[1][1:-1]\n",
    "                i += 1\n",
    "\n",
    "            i += 1\n",
    "            data_item['body'] = data_array[i][0:-1]\n",
    "            i+= 2\n",
    "\n",
    "        else:\n",
    "            i+=1\n",
    "            continue\n",
    "\n",
    "        data_item['anomalous'] = is_anomalous\n",
    "        data_processed.append(data_item)\n",
    "\n",
    "    return data_processed\n",
    "\n"
   ]
  },
  {
   "cell_type": "code",
   "execution_count": 3,
   "id": "textile-riverside",
   "metadata": {},
   "outputs": [
    {
     "data": {
      "text/plain": [
       "{'method': 'GET',\n",
       " 'url': 'http://localhost:8080/tienda1/imagenes/nuestratierra.jpg.BAK HTTP/1.1',\n",
       " 'User-Agent': 'Mozilla/5.0 (compatible; Konqueror/3.5; Linux) KHTML/3.5.8 (like Gecko)',\n",
       " 'Pragma': 'no-cache',\n",
       " 'Cache-control': 'no-cache',\n",
       " 'Accept': 'text/xml,application/xml,application/xhtml+xml,text/html;q=0.9,text/plain;q=0.8,image/png,*/*;q=0.5',\n",
       " 'Accept-Encoding': 'x-gzip, x-deflate, gzip, deflate',\n",
       " 'Accept-Charset': 'utf-8, utf-8;q=0.5, *;q=0.5',\n",
       " 'Accept-Language': 'en',\n",
       " 'Host': 'localhost:8080',\n",
       " 'Cookie': 'JSESSIONID=3CC12010CDA952F123240EBAD79B55CC',\n",
       " 'Connection': 'close',\n",
       " 'anomalous': True}"
      ]
     },
     "execution_count": 3,
     "metadata": {},
     "output_type": "execute_result"
    }
   ],
   "source": [
    "with open('../data/raw/normalTrafficTest.txt') as file:\n",
    "    data1 =  file.readlines()\n",
    "\n",
    "with open('../data/raw/normalTrafficTraining.txt') as file:\n",
    "    data2 = file.readlines()\n",
    "\n",
    "with open('../data/raw/anomalousTrafficTest.txt') as file:\n",
    "    data3 = file.readlines()\n",
    "\n",
    "d3 = process_http_data(data3, True)\n",
    "d2 = process_http_data(data2, False)\n",
    "d1 = process_http_data(data1, False)\n",
    "\n",
    "d3[-1]"
   ]
  },
  {
   "cell_type": "code",
   "execution_count": 4,
   "id": "accessible-queue",
   "metadata": {},
   "outputs": [
    {
     "name": "stdout",
     "output_type": "stream",
     "text": [
      "(97065, 16)\n"
     ]
    },
    {
     "data": {
      "text/html": [
       "<div>\n",
       "<style scoped>\n",
       "    .dataframe tbody tr th:only-of-type {\n",
       "        vertical-align: middle;\n",
       "    }\n",
       "\n",
       "    .dataframe tbody tr th {\n",
       "        vertical-align: top;\n",
       "    }\n",
       "\n",
       "    .dataframe thead th {\n",
       "        text-align: right;\n",
       "    }\n",
       "</style>\n",
       "<table border=\"1\" class=\"dataframe\">\n",
       "  <thead>\n",
       "    <tr style=\"text-align: right;\">\n",
       "      <th></th>\n",
       "      <th>method</th>\n",
       "      <th>url</th>\n",
       "      <th>User-Agent</th>\n",
       "      <th>Pragma</th>\n",
       "      <th>Cache-control</th>\n",
       "      <th>Accept</th>\n",
       "      <th>Accept-Encoding</th>\n",
       "      <th>Accept-Charset</th>\n",
       "      <th>Accept-Language</th>\n",
       "      <th>Host</th>\n",
       "      <th>Cookie</th>\n",
       "      <th>Connection</th>\n",
       "      <th>anomalous</th>\n",
       "      <th>Content-Type</th>\n",
       "      <th>Content-Length</th>\n",
       "      <th>body</th>\n",
       "    </tr>\n",
       "  </thead>\n",
       "  <tbody>\n",
       "    <tr>\n",
       "      <th>0</th>\n",
       "      <td>GET</td>\n",
       "      <td>http://localhost:8080/tienda1/index.jsp HTTP/1.1</td>\n",
       "      <td>Mozilla/5.0 (compatible; Konqueror/3.5; Linux)...</td>\n",
       "      <td>no-cache</td>\n",
       "      <td>no-cache</td>\n",
       "      <td>text/xml,application/xml,application/xhtml+xml...</td>\n",
       "      <td>x-gzip, x-deflate, gzip, deflate</td>\n",
       "      <td>utf-8, utf-8;q=0.5, *;q=0.5</td>\n",
       "      <td>en</td>\n",
       "      <td>localhost:8080</td>\n",
       "      <td>JSESSIONID=EA414B3E327DED6875848530C864BD8F</td>\n",
       "      <td>close</td>\n",
       "      <td>False</td>\n",
       "      <td>NaN</td>\n",
       "      <td>NaN</td>\n",
       "      <td>NaN</td>\n",
       "    </tr>\n",
       "    <tr>\n",
       "      <th>1</th>\n",
       "      <td>GET</td>\n",
       "      <td>http://localhost:8080/tienda1/publico/anadir.j...</td>\n",
       "      <td>Mozilla/5.0 (compatible; Konqueror/3.5; Linux)...</td>\n",
       "      <td>no-cache</td>\n",
       "      <td>no-cache</td>\n",
       "      <td>text/xml,application/xml,application/xhtml+xml...</td>\n",
       "      <td>x-gzip, x-deflate, gzip, deflate</td>\n",
       "      <td>utf-8, utf-8;q=0.5, *;q=0.5</td>\n",
       "      <td>en</td>\n",
       "      <td>localhost:8080</td>\n",
       "      <td>JSESSIONID=54E25FF4B7F0E4E855B112F882E9EEA5</td>\n",
       "      <td>close</td>\n",
       "      <td>False</td>\n",
       "      <td>NaN</td>\n",
       "      <td>NaN</td>\n",
       "      <td>NaN</td>\n",
       "    </tr>\n",
       "    <tr>\n",
       "      <th>2</th>\n",
       "      <td>POST</td>\n",
       "      <td>http://localhost:8080/tienda1/publico/anadir.j...</td>\n",
       "      <td>Mozilla/5.0 (compatible; Konqueror/3.5; Linux)...</td>\n",
       "      <td>no-cache</td>\n",
       "      <td>no-cache</td>\n",
       "      <td>text/xml,application/xml,application/xhtml+xml...</td>\n",
       "      <td>x-gzip, x-deflate, gzip, deflate</td>\n",
       "      <td>utf-8, utf-8;q=0.5, *;q=0.5</td>\n",
       "      <td>en</td>\n",
       "      <td>localhost:8080</td>\n",
       "      <td>JSESSIONID=788887A0F479749C4CEEA1E268B4A501</td>\n",
       "      <td>close</td>\n",
       "      <td>False</td>\n",
       "      <td>application/x-www-form-urlencoded</td>\n",
       "      <td>74</td>\n",
       "      <td>id=1&amp;nombre=Jam%F3n+Ib%E9rico&amp;precio=39&amp;cantid...</td>\n",
       "    </tr>\n",
       "    <tr>\n",
       "      <th>3</th>\n",
       "      <td>GET</td>\n",
       "      <td>http://localhost:8080/tienda1/publico/autentic...</td>\n",
       "      <td>Mozilla/5.0 (compatible; Konqueror/3.5; Linux)...</td>\n",
       "      <td>no-cache</td>\n",
       "      <td>no-cache</td>\n",
       "      <td>text/xml,application/xml,application/xhtml+xml...</td>\n",
       "      <td>x-gzip, x-deflate, gzip, deflate</td>\n",
       "      <td>utf-8, utf-8;q=0.5, *;q=0.5</td>\n",
       "      <td>en</td>\n",
       "      <td>localhost:8080</td>\n",
       "      <td>JSESSIONID=94ECD5EE8EF7EFE4BB26C701B150ED7B</td>\n",
       "      <td>close</td>\n",
       "      <td>False</td>\n",
       "      <td>NaN</td>\n",
       "      <td>NaN</td>\n",
       "      <td>NaN</td>\n",
       "    </tr>\n",
       "    <tr>\n",
       "      <th>4</th>\n",
       "      <td>POST</td>\n",
       "      <td>http://localhost:8080/tienda1/publico/autentic...</td>\n",
       "      <td>Mozilla/5.0 (compatible; Konqueror/3.5; Linux)...</td>\n",
       "      <td>no-cache</td>\n",
       "      <td>no-cache</td>\n",
       "      <td>text/xml,application/xml,application/xhtml+xml...</td>\n",
       "      <td>x-gzip, x-deflate, gzip, deflate</td>\n",
       "      <td>utf-8, utf-8;q=0.5, *;q=0.5</td>\n",
       "      <td>en</td>\n",
       "      <td>localhost:8080</td>\n",
       "      <td>JSESSIONID=23391DBBADEC19FE01E02D201F278C6A</td>\n",
       "      <td>close</td>\n",
       "      <td>False</td>\n",
       "      <td>application/x-www-form-urlencoded</td>\n",
       "      <td>60</td>\n",
       "      <td>modo=entrar&amp;login=caria&amp;pwd=egipciaca&amp;remember...</td>\n",
       "    </tr>\n",
       "  </tbody>\n",
       "</table>\n",
       "</div>"
      ],
      "text/plain": [
       "  method                                                url  \\\n",
       "0    GET   http://localhost:8080/tienda1/index.jsp HTTP/1.1   \n",
       "1    GET  http://localhost:8080/tienda1/publico/anadir.j...   \n",
       "2   POST  http://localhost:8080/tienda1/publico/anadir.j...   \n",
       "3    GET  http://localhost:8080/tienda1/publico/autentic...   \n",
       "4   POST  http://localhost:8080/tienda1/publico/autentic...   \n",
       "\n",
       "                                          User-Agent    Pragma Cache-control  \\\n",
       "0  Mozilla/5.0 (compatible; Konqueror/3.5; Linux)...  no-cache      no-cache   \n",
       "1  Mozilla/5.0 (compatible; Konqueror/3.5; Linux)...  no-cache      no-cache   \n",
       "2  Mozilla/5.0 (compatible; Konqueror/3.5; Linux)...  no-cache      no-cache   \n",
       "3  Mozilla/5.0 (compatible; Konqueror/3.5; Linux)...  no-cache      no-cache   \n",
       "4  Mozilla/5.0 (compatible; Konqueror/3.5; Linux)...  no-cache      no-cache   \n",
       "\n",
       "                                              Accept  \\\n",
       "0  text/xml,application/xml,application/xhtml+xml...   \n",
       "1  text/xml,application/xml,application/xhtml+xml...   \n",
       "2  text/xml,application/xml,application/xhtml+xml...   \n",
       "3  text/xml,application/xml,application/xhtml+xml...   \n",
       "4  text/xml,application/xml,application/xhtml+xml...   \n",
       "\n",
       "                    Accept-Encoding               Accept-Charset  \\\n",
       "0  x-gzip, x-deflate, gzip, deflate  utf-8, utf-8;q=0.5, *;q=0.5   \n",
       "1  x-gzip, x-deflate, gzip, deflate  utf-8, utf-8;q=0.5, *;q=0.5   \n",
       "2  x-gzip, x-deflate, gzip, deflate  utf-8, utf-8;q=0.5, *;q=0.5   \n",
       "3  x-gzip, x-deflate, gzip, deflate  utf-8, utf-8;q=0.5, *;q=0.5   \n",
       "4  x-gzip, x-deflate, gzip, deflate  utf-8, utf-8;q=0.5, *;q=0.5   \n",
       "\n",
       "  Accept-Language            Host  \\\n",
       "0              en  localhost:8080   \n",
       "1              en  localhost:8080   \n",
       "2              en  localhost:8080   \n",
       "3              en  localhost:8080   \n",
       "4              en  localhost:8080   \n",
       "\n",
       "                                        Cookie Connection  anomalous  \\\n",
       "0  JSESSIONID=EA414B3E327DED6875848530C864BD8F      close      False   \n",
       "1  JSESSIONID=54E25FF4B7F0E4E855B112F882E9EEA5      close      False   \n",
       "2  JSESSIONID=788887A0F479749C4CEEA1E268B4A501      close      False   \n",
       "3  JSESSIONID=94ECD5EE8EF7EFE4BB26C701B150ED7B      close      False   \n",
       "4  JSESSIONID=23391DBBADEC19FE01E02D201F278C6A      close      False   \n",
       "\n",
       "                        Content-Type Content-Length  \\\n",
       "0                                NaN            NaN   \n",
       "1                                NaN            NaN   \n",
       "2  application/x-www-form-urlencoded             74   \n",
       "3                                NaN            NaN   \n",
       "4  application/x-www-form-urlencoded             60   \n",
       "\n",
       "                                                body  \n",
       "0                                                NaN  \n",
       "1                                                NaN  \n",
       "2  id=1&nombre=Jam%F3n+Ib%E9rico&precio=39&cantid...  \n",
       "3                                                NaN  \n",
       "4  modo=entrar&login=caria&pwd=egipciaca&remember...  "
      ]
     },
     "execution_count": 4,
     "metadata": {},
     "output_type": "execute_result"
    }
   ],
   "source": [
    "df_orig = pd.DataFrame(d1 + d2 + d3)\n",
    "del(d3,d2,d1)\n",
    "print(df_orig.shape)\n",
    "df_orig.head()"
   ]
  },
  {
   "cell_type": "code",
   "execution_count": 5,
   "id": "front-gamma",
   "metadata": {
    "scrolled": true
   },
   "outputs": [
    {
     "data": {
      "text/plain": [
       "GET     71088\n",
       "POST    25580\n",
       "PUT       397\n",
       "Name: method, dtype: int64"
      ]
     },
     "execution_count": 5,
     "metadata": {},
     "output_type": "execute_result"
    }
   ],
   "source": [
    "df_orig['method'].value_counts()"
   ]
  },
  {
   "cell_type": "code",
   "execution_count": 6,
   "id": "living-lover",
   "metadata": {},
   "outputs": [],
   "source": [
    "df= df_orig.copy()"
   ]
  },
  {
   "cell_type": "code",
   "execution_count": 7,
   "id": "induced-greene",
   "metadata": {},
   "outputs": [],
   "source": [
    "#df.to_csv('../data/interim/1_original_data_to_df.csv')"
   ]
  },
  {
   "cell_type": "markdown",
   "id": "ignored-hayes",
   "metadata": {},
   "source": [
    "## Process data / feature extraction"
   ]
  },
  {
   "cell_type": "code",
   "execution_count": 8,
   "id": "asian-niger",
   "metadata": {},
   "outputs": [
    {
     "name": "stdout",
     "output_type": "stream",
     "text": [
      "(97065, 19)\n"
     ]
    },
    {
     "data": {
      "text/html": [
       "<div>\n",
       "<style scoped>\n",
       "    .dataframe tbody tr th:only-of-type {\n",
       "        vertical-align: middle;\n",
       "    }\n",
       "\n",
       "    .dataframe tbody tr th {\n",
       "        vertical-align: top;\n",
       "    }\n",
       "\n",
       "    .dataframe thead th {\n",
       "        text-align: right;\n",
       "    }\n",
       "</style>\n",
       "<table border=\"1\" class=\"dataframe\">\n",
       "  <thead>\n",
       "    <tr style=\"text-align: right;\">\n",
       "      <th></th>\n",
       "      <th>method</th>\n",
       "      <th>url</th>\n",
       "      <th>User-Agent</th>\n",
       "      <th>Pragma</th>\n",
       "      <th>Cache-control</th>\n",
       "      <th>Accept</th>\n",
       "      <th>Accept-Encoding</th>\n",
       "      <th>Accept-Charset</th>\n",
       "      <th>Accept-Language</th>\n",
       "      <th>Host</th>\n",
       "      <th>Cookie</th>\n",
       "      <th>Connection</th>\n",
       "      <th>anomalous</th>\n",
       "      <th>Content-Type</th>\n",
       "      <th>Content-Length</th>\n",
       "      <th>body</th>\n",
       "      <th>browser</th>\n",
       "      <th>system-information</th>\n",
       "      <th>platform</th>\n",
       "    </tr>\n",
       "  </thead>\n",
       "  <tbody>\n",
       "    <tr>\n",
       "      <th>0</th>\n",
       "      <td>GET</td>\n",
       "      <td>http://localhost:8080/tienda1/index.jsp HTTP/1.1</td>\n",
       "      <td>Mozilla/5.0 (compatible; Konqueror/3.5; Linux)...</td>\n",
       "      <td>no-cache</td>\n",
       "      <td>no-cache</td>\n",
       "      <td>text/xml,application/xml,application/xhtml+xml...</td>\n",
       "      <td>x-gzip, x-deflate, gzip, deflate</td>\n",
       "      <td>utf-8, utf-8;q=0.5, *;q=0.5</td>\n",
       "      <td>en</td>\n",
       "      <td>localhost:8080</td>\n",
       "      <td>JSESSIONID=EA414B3E327DED6875848530C864BD8F</td>\n",
       "      <td>close</td>\n",
       "      <td>False</td>\n",
       "      <td>NaN</td>\n",
       "      <td>NaN</td>\n",
       "      <td>NaN</td>\n",
       "      <td>Mozilla/5.0</td>\n",
       "      <td>compatible; Konqueror/3.5; Linux</td>\n",
       "      <td>KHTML/3.5.8 (like Gecko)</td>\n",
       "    </tr>\n",
       "    <tr>\n",
       "      <th>1</th>\n",
       "      <td>GET</td>\n",
       "      <td>http://localhost:8080/tienda1/publico/anadir.j...</td>\n",
       "      <td>Mozilla/5.0 (compatible; Konqueror/3.5; Linux)...</td>\n",
       "      <td>no-cache</td>\n",
       "      <td>no-cache</td>\n",
       "      <td>text/xml,application/xml,application/xhtml+xml...</td>\n",
       "      <td>x-gzip, x-deflate, gzip, deflate</td>\n",
       "      <td>utf-8, utf-8;q=0.5, *;q=0.5</td>\n",
       "      <td>en</td>\n",
       "      <td>localhost:8080</td>\n",
       "      <td>JSESSIONID=54E25FF4B7F0E4E855B112F882E9EEA5</td>\n",
       "      <td>close</td>\n",
       "      <td>False</td>\n",
       "      <td>NaN</td>\n",
       "      <td>NaN</td>\n",
       "      <td>NaN</td>\n",
       "      <td>Mozilla/5.0</td>\n",
       "      <td>compatible; Konqueror/3.5; Linux</td>\n",
       "      <td>KHTML/3.5.8 (like Gecko)</td>\n",
       "    </tr>\n",
       "    <tr>\n",
       "      <th>2</th>\n",
       "      <td>POST</td>\n",
       "      <td>http://localhost:8080/tienda1/publico/anadir.j...</td>\n",
       "      <td>Mozilla/5.0 (compatible; Konqueror/3.5; Linux)...</td>\n",
       "      <td>no-cache</td>\n",
       "      <td>no-cache</td>\n",
       "      <td>text/xml,application/xml,application/xhtml+xml...</td>\n",
       "      <td>x-gzip, x-deflate, gzip, deflate</td>\n",
       "      <td>utf-8, utf-8;q=0.5, *;q=0.5</td>\n",
       "      <td>en</td>\n",
       "      <td>localhost:8080</td>\n",
       "      <td>JSESSIONID=788887A0F479749C4CEEA1E268B4A501</td>\n",
       "      <td>close</td>\n",
       "      <td>False</td>\n",
       "      <td>application/x-www-form-urlencoded</td>\n",
       "      <td>74</td>\n",
       "      <td>id=1&amp;nombre=Jam%F3n+Ib%E9rico&amp;precio=39&amp;cantid...</td>\n",
       "      <td>Mozilla/5.0</td>\n",
       "      <td>compatible; Konqueror/3.5; Linux</td>\n",
       "      <td>KHTML/3.5.8 (like Gecko)</td>\n",
       "    </tr>\n",
       "    <tr>\n",
       "      <th>3</th>\n",
       "      <td>GET</td>\n",
       "      <td>http://localhost:8080/tienda1/publico/autentic...</td>\n",
       "      <td>Mozilla/5.0 (compatible; Konqueror/3.5; Linux)...</td>\n",
       "      <td>no-cache</td>\n",
       "      <td>no-cache</td>\n",
       "      <td>text/xml,application/xml,application/xhtml+xml...</td>\n",
       "      <td>x-gzip, x-deflate, gzip, deflate</td>\n",
       "      <td>utf-8, utf-8;q=0.5, *;q=0.5</td>\n",
       "      <td>en</td>\n",
       "      <td>localhost:8080</td>\n",
       "      <td>JSESSIONID=94ECD5EE8EF7EFE4BB26C701B150ED7B</td>\n",
       "      <td>close</td>\n",
       "      <td>False</td>\n",
       "      <td>NaN</td>\n",
       "      <td>NaN</td>\n",
       "      <td>NaN</td>\n",
       "      <td>Mozilla/5.0</td>\n",
       "      <td>compatible; Konqueror/3.5; Linux</td>\n",
       "      <td>KHTML/3.5.8 (like Gecko)</td>\n",
       "    </tr>\n",
       "    <tr>\n",
       "      <th>4</th>\n",
       "      <td>POST</td>\n",
       "      <td>http://localhost:8080/tienda1/publico/autentic...</td>\n",
       "      <td>Mozilla/5.0 (compatible; Konqueror/3.5; Linux)...</td>\n",
       "      <td>no-cache</td>\n",
       "      <td>no-cache</td>\n",
       "      <td>text/xml,application/xml,application/xhtml+xml...</td>\n",
       "      <td>x-gzip, x-deflate, gzip, deflate</td>\n",
       "      <td>utf-8, utf-8;q=0.5, *;q=0.5</td>\n",
       "      <td>en</td>\n",
       "      <td>localhost:8080</td>\n",
       "      <td>JSESSIONID=23391DBBADEC19FE01E02D201F278C6A</td>\n",
       "      <td>close</td>\n",
       "      <td>False</td>\n",
       "      <td>application/x-www-form-urlencoded</td>\n",
       "      <td>60</td>\n",
       "      <td>modo=entrar&amp;login=caria&amp;pwd=egipciaca&amp;remember...</td>\n",
       "      <td>Mozilla/5.0</td>\n",
       "      <td>compatible; Konqueror/3.5; Linux</td>\n",
       "      <td>KHTML/3.5.8 (like Gecko)</td>\n",
       "    </tr>\n",
       "  </tbody>\n",
       "</table>\n",
       "</div>"
      ],
      "text/plain": [
       "  method                                                url  \\\n",
       "0    GET   http://localhost:8080/tienda1/index.jsp HTTP/1.1   \n",
       "1    GET  http://localhost:8080/tienda1/publico/anadir.j...   \n",
       "2   POST  http://localhost:8080/tienda1/publico/anadir.j...   \n",
       "3    GET  http://localhost:8080/tienda1/publico/autentic...   \n",
       "4   POST  http://localhost:8080/tienda1/publico/autentic...   \n",
       "\n",
       "                                          User-Agent    Pragma Cache-control  \\\n",
       "0  Mozilla/5.0 (compatible; Konqueror/3.5; Linux)...  no-cache      no-cache   \n",
       "1  Mozilla/5.0 (compatible; Konqueror/3.5; Linux)...  no-cache      no-cache   \n",
       "2  Mozilla/5.0 (compatible; Konqueror/3.5; Linux)...  no-cache      no-cache   \n",
       "3  Mozilla/5.0 (compatible; Konqueror/3.5; Linux)...  no-cache      no-cache   \n",
       "4  Mozilla/5.0 (compatible; Konqueror/3.5; Linux)...  no-cache      no-cache   \n",
       "\n",
       "                                              Accept  \\\n",
       "0  text/xml,application/xml,application/xhtml+xml...   \n",
       "1  text/xml,application/xml,application/xhtml+xml...   \n",
       "2  text/xml,application/xml,application/xhtml+xml...   \n",
       "3  text/xml,application/xml,application/xhtml+xml...   \n",
       "4  text/xml,application/xml,application/xhtml+xml...   \n",
       "\n",
       "                    Accept-Encoding               Accept-Charset  \\\n",
       "0  x-gzip, x-deflate, gzip, deflate  utf-8, utf-8;q=0.5, *;q=0.5   \n",
       "1  x-gzip, x-deflate, gzip, deflate  utf-8, utf-8;q=0.5, *;q=0.5   \n",
       "2  x-gzip, x-deflate, gzip, deflate  utf-8, utf-8;q=0.5, *;q=0.5   \n",
       "3  x-gzip, x-deflate, gzip, deflate  utf-8, utf-8;q=0.5, *;q=0.5   \n",
       "4  x-gzip, x-deflate, gzip, deflate  utf-8, utf-8;q=0.5, *;q=0.5   \n",
       "\n",
       "  Accept-Language            Host  \\\n",
       "0              en  localhost:8080   \n",
       "1              en  localhost:8080   \n",
       "2              en  localhost:8080   \n",
       "3              en  localhost:8080   \n",
       "4              en  localhost:8080   \n",
       "\n",
       "                                        Cookie Connection  anomalous  \\\n",
       "0  JSESSIONID=EA414B3E327DED6875848530C864BD8F      close      False   \n",
       "1  JSESSIONID=54E25FF4B7F0E4E855B112F882E9EEA5      close      False   \n",
       "2  JSESSIONID=788887A0F479749C4CEEA1E268B4A501      close      False   \n",
       "3  JSESSIONID=94ECD5EE8EF7EFE4BB26C701B150ED7B      close      False   \n",
       "4  JSESSIONID=23391DBBADEC19FE01E02D201F278C6A      close      False   \n",
       "\n",
       "                        Content-Type Content-Length  \\\n",
       "0                                NaN            NaN   \n",
       "1                                NaN            NaN   \n",
       "2  application/x-www-form-urlencoded             74   \n",
       "3                                NaN            NaN   \n",
       "4  application/x-www-form-urlencoded             60   \n",
       "\n",
       "                                                body      browser  \\\n",
       "0                                                NaN  Mozilla/5.0   \n",
       "1                                                NaN  Mozilla/5.0   \n",
       "2  id=1&nombre=Jam%F3n+Ib%E9rico&precio=39&cantid...  Mozilla/5.0   \n",
       "3                                                NaN  Mozilla/5.0   \n",
       "4  modo=entrar&login=caria&pwd=egipciaca&remember...  Mozilla/5.0   \n",
       "\n",
       "                 system-information                  platform  \n",
       "0  compatible; Konqueror/3.5; Linux  KHTML/3.5.8 (like Gecko)  \n",
       "1  compatible; Konqueror/3.5; Linux  KHTML/3.5.8 (like Gecko)  \n",
       "2  compatible; Konqueror/3.5; Linux  KHTML/3.5.8 (like Gecko)  \n",
       "3  compatible; Konqueror/3.5; Linux  KHTML/3.5.8 (like Gecko)  \n",
       "4  compatible; Konqueror/3.5; Linux  KHTML/3.5.8 (like Gecko)  "
      ]
     },
     "execution_count": 8,
     "metadata": {},
     "output_type": "execute_result"
    }
   ],
   "source": [
    "# process columns, extract features\n",
    "df['browser'] = df['User-Agent'].str.extract( r'^(.*?) \\(', expand=False)\n",
    "df['system-information'] = df['User-Agent'].str.extract( r'\\((.*?)\\)', expand=False)\n",
    "df['platform'] = df['User-Agent'].str.extract( r'\\) (.*)$', expand=False)\n",
    "df.drop('User-Agent',1)\n",
    "\n",
    "print(df.shape)\n",
    "df.head()"
   ]
  },
  {
   "cell_type": "code",
   "execution_count": 9,
   "id": "specific-rhythm",
   "metadata": {},
   "outputs": [
    {
     "name": "stdout",
     "output_type": "stream",
     "text": [
      "['http://localhost:8080/tienda1/publico/anadir.jsp', 'id=1', 'nombre=Jam%F3n+Ib%E9rico', 'precio=39', 'cantidad=41', 'B1=A%F1adir+al+carrito HTTP/1.1']\n",
      "['http:', '', 'localhost:8080', 'tienda1', 'publico', 'anadir.jsp', 'id', '1', 'nombre', 'Jam%F3n', 'Ib%E9rico', 'precio', '39', 'cantidad', '41', 'B1', 'A%F1adir', 'al', 'carrito HTTP', '1.1']\n"
     ]
    }
   ],
   "source": [
    "#testing how to split\n",
    "tmp = re.split('[?&]', 'http://localhost:8080/tienda1/publico/anadir.jsp?id=1&nombre=Jam%F3n+Ib%E9rico&precio=39&cantidad=41&B1=A%F1adir+al+carrito HTTP/1.1')\n",
    "print(tmp)\n",
    "tmp = re.split('[?/&=+]', 'http://localhost:8080/tienda1/publico/anadir.jsp?id=1&nombre=Jam%F3n+Ib%E9rico&precio=39&cantidad=41&B1=A%F1adir+al+carrito HTTP/1.1')\n",
    "print(tmp)"
   ]
  },
  {
   "cell_type": "code",
   "execution_count": 10,
   "id": "boxed-tourist",
   "metadata": {},
   "outputs": [
    {
     "data": {
      "text/plain": [
       "HTTP/1.1    97065\n",
       "Name: protocol, dtype: int64"
      ]
     },
     "execution_count": 10,
     "metadata": {},
     "output_type": "execute_result"
    }
   ],
   "source": [
    "df['protocol'] = df['url'].str.extract(r' (.*?)$')\n",
    "df['protocol'].value_counts()"
   ]
  },
  {
   "cell_type": "code",
   "execution_count": 11,
   "id": "combined-owner",
   "metadata": {
    "scrolled": true
   },
   "outputs": [],
   "source": [
    "def extract_url_only(x):\n",
    "    if '?' in x:\n",
    "        return x.split('?')[0]\n",
    "    return x[:-8]\n",
    "\n",
    "def extract_args_only(row):\n",
    "    if row['method'] == 'GET':\n",
    "        x = row['url']\n",
    "        if '?' in x:\n",
    "            return re.split( '[&=+/]', x.split('?')[1] )\n",
    "        return []    \n",
    "    elif (row['method'] == 'POST') | (row['method'] == 'PUT'):\n",
    "        x = row['body']\n",
    "        if type(x)==str:\n",
    "            return re.split('[&=+/]', x)\n",
    "        return []        \n",
    "    "
   ]
  },
  {
   "cell_type": "code",
   "execution_count": 12,
   "id": "future-hormone",
   "metadata": {},
   "outputs": [],
   "source": [
    "COMMON_SQL_WORDS = ['create', 'insert', 'view', 'from' , 'select', 'alter', 'add', 'distinct', 'into','update','set','delete',\n",
    "                    'truncate','as','order','between','where','and','or','null','drop','column','table','database','group',\n",
    "                    'having','join','union','exists','like','case']\n",
    "\n",
    "COMMON_BATCH_WORDS = [\"cd\", \"ls\", \"cat\", \"cd\", \"sudo\", \"tail\", \"echo\", \"grep\", \"mv\", \"less\",\"more\",\"gnome-open\",\n",
    "                     \"chmod\",\"chown\",\"chgrp\",\"find\", \"wget\",\"curl\", \"su\"]\n",
    "\n",
    "'''\n",
    "returns the number of words in x that are in words_list\n",
    "'''\n",
    "def num_in_words(x, words_list):\n",
    "    count = 0\n",
    "    w = x.lower()\n",
    "    for w in words_list:\n",
    "        if w in x:\n",
    "            count +=1\n",
    "    return count\n",
    "\n",
    "def num_special_chars(x):\n",
    "    y = ''.join(x)\n",
    "    z = re.sub(r'[\\w]+','',y)\n",
    "    return len(z)"
   ]
  },
  {
   "cell_type": "code",
   "execution_count": 13,
   "id": "southwest-university",
   "metadata": {},
   "outputs": [
    {
     "data": {
      "text/plain": [
       "0                                                   []\n",
       "1    [id, 1, nombre, Jam%F3n, Ib%E9rico, precio, 39...\n",
       "Name: arg_words, dtype: object"
      ]
     },
     "execution_count": 13,
     "metadata": {},
     "output_type": "execute_result"
    }
   ],
   "source": [
    "df['url_only'] = df['url'].apply(lambda x: extract_url_only(x))\n",
    "df['url_words'] = df['url'].apply(lambda x:  re.split('[/.]', x) )\n",
    "df['url_words'][0]\n",
    "\n",
    "df['arg_words'] = df.apply( lambda x: extract_args_only(x), axis=1)\n",
    "df['url_arg_words'] = df['arg_words'] + df['url_words']\n",
    "df['arg_words'][0:2]"
   ]
  },
  {
   "cell_type": "code",
   "execution_count": 14,
   "id": "lightweight-wound",
   "metadata": {},
   "outputs": [
    {
     "data": {
      "text/plain": [
       "0    [http:, , localhost:8080, tienda1, index, jsp ...\n",
       "1    [id, 1, nombre, Jam%F3n, Ib%E9rico, precio, 39...\n",
       "2    [id, 1, nombre, Jam%F3n, Ib%E9rico, precio, 39...\n",
       "3    [modo, entrar, login, caria, pwd, egipciaca, r...\n",
       "4    [modo, entrar, login, caria, pwd, egipciaca, r...\n",
       "5    [id, 2 HTTP, 1.1, http:, , localhost:8080, tie...\n",
       "6    [id, 2, http:, , localhost:8080, tienda1, publ...\n",
       "7    [http:, , localhost:8080, tienda1, publico, ca...\n",
       "8    [errorMsg, Credenciales, incorrectas HTTP, 1.1...\n",
       "9    [errorMsg, Credenciales, incorrectas, http:, ,...\n",
       "Name: url_arg_words, dtype: object"
      ]
     },
     "execution_count": 14,
     "metadata": {},
     "output_type": "execute_result"
    }
   ],
   "source": [
    "df['url_arg_words'][0:10]"
   ]
  },
  {
   "cell_type": "code",
   "execution_count": 15,
   "id": "collectible-auckland",
   "metadata": {},
   "outputs": [],
   "source": [
    "## getting more feature characteristics\n",
    "df['num_of_args'] = df['arg_words'].apply(lambda x: len(x))\n",
    "df['max_length_of_args'] = df['arg_words'].apply(lambda x: 0 if len(x) ==0 else max([ len(i) for i in x ] ))\n",
    "df['min_length_of_args'] = df['arg_words'].apply(lambda x: 0 if len(x) ==0 else min([ len(i) for i in x ] ))\n",
    "df['total_length_args'] = df['arg_words'].apply(lambda x: sum( [ len(i) for i in x ] ))\n",
    "\n",
    "df['total_length_request'] = df['url'].apply(lambda x: len(x))\n",
    "df['lenght_of_path'] = df['url_only'].apply(lambda x: len(x))\n",
    "df['port_is_common'] = df['Host'].apply(lambda x: x.split(':')[-1] in ['80','443','8080'] )\n",
    "\n",
    "df['num_of_paths'] = df['url_words'].apply(lambda x: len(x) )\n",
    "df['num_sql_words'] = df['url'].apply(lambda x: num_in_words(x, COMMON_SQL_WORDS))\n",
    "df['num_batch_words'] = df['url'].apply(lambda x: num_in_words(x, COMMON_BATCH_WORDS))\n",
    "df['num_special_chars'] = df['arg_words'].apply(lambda x: num_special_chars(x))\n"
   ]
  },
  {
   "cell_type": "code",
   "execution_count": 16,
   "id": "psychological-guess",
   "metadata": {},
   "outputs": [
    {
     "data": {
      "text/html": [
       "<div>\n",
       "<style scoped>\n",
       "    .dataframe tbody tr th:only-of-type {\n",
       "        vertical-align: middle;\n",
       "    }\n",
       "\n",
       "    .dataframe tbody tr th {\n",
       "        vertical-align: top;\n",
       "    }\n",
       "\n",
       "    .dataframe thead th {\n",
       "        text-align: right;\n",
       "    }\n",
       "</style>\n",
       "<table border=\"1\" class=\"dataframe\">\n",
       "  <thead>\n",
       "    <tr style=\"text-align: right;\">\n",
       "      <th></th>\n",
       "      <th>method</th>\n",
       "      <th>url</th>\n",
       "      <th>User-Agent</th>\n",
       "      <th>Pragma</th>\n",
       "      <th>Cache-control</th>\n",
       "      <th>Accept</th>\n",
       "      <th>Accept-Encoding</th>\n",
       "      <th>Accept-Charset</th>\n",
       "      <th>Accept-Language</th>\n",
       "      <th>Host</th>\n",
       "      <th>Cookie</th>\n",
       "      <th>Connection</th>\n",
       "      <th>anomalous</th>\n",
       "      <th>Content-Type</th>\n",
       "      <th>Content-Length</th>\n",
       "      <th>body</th>\n",
       "      <th>browser</th>\n",
       "      <th>system-information</th>\n",
       "      <th>platform</th>\n",
       "      <th>protocol</th>\n",
       "      <th>url_only</th>\n",
       "      <th>url_words</th>\n",
       "      <th>arg_words</th>\n",
       "      <th>url_arg_words</th>\n",
       "      <th>num_of_args</th>\n",
       "      <th>max_length_of_args</th>\n",
       "      <th>min_length_of_args</th>\n",
       "      <th>total_length_args</th>\n",
       "      <th>total_length_request</th>\n",
       "      <th>lenght_of_path</th>\n",
       "      <th>port_is_common</th>\n",
       "      <th>num_of_paths</th>\n",
       "      <th>num_sql_words</th>\n",
       "      <th>num_batch_words</th>\n",
       "      <th>num_special_chars</th>\n",
       "    </tr>\n",
       "  </thead>\n",
       "  <tbody>\n",
       "    <tr>\n",
       "      <th>0</th>\n",
       "      <td>GET</td>\n",
       "      <td>http://localhost:8080/tienda1/index.jsp HTTP/1.1</td>\n",
       "      <td>Mozilla/5.0 (compatible; Konqueror/3.5; Linux)...</td>\n",
       "      <td>no-cache</td>\n",
       "      <td>no-cache</td>\n",
       "      <td>text/xml,application/xml,application/xhtml+xml...</td>\n",
       "      <td>x-gzip, x-deflate, gzip, deflate</td>\n",
       "      <td>utf-8, utf-8;q=0.5, *;q=0.5</td>\n",
       "      <td>en</td>\n",
       "      <td>localhost:8080</td>\n",
       "      <td>JSESSIONID=EA414B3E327DED6875848530C864BD8F</td>\n",
       "      <td>close</td>\n",
       "      <td>False</td>\n",
       "      <td>NaN</td>\n",
       "      <td>NaN</td>\n",
       "      <td>NaN</td>\n",
       "      <td>Mozilla/5.0</td>\n",
       "      <td>compatible; Konqueror/3.5; Linux</td>\n",
       "      <td>KHTML/3.5.8 (like Gecko)</td>\n",
       "      <td>HTTP/1.1</td>\n",
       "      <td>http://localhost:8080/tienda1/index.jsp</td>\n",
       "      <td>[http:, , localhost:8080, tienda1, index, jsp ...</td>\n",
       "      <td>[]</td>\n",
       "      <td>[http:, , localhost:8080, tienda1, index, jsp ...</td>\n",
       "      <td>0</td>\n",
       "      <td>0</td>\n",
       "      <td>0</td>\n",
       "      <td>0</td>\n",
       "      <td>48</td>\n",
       "      <td>40</td>\n",
       "      <td>True</td>\n",
       "      <td>8</td>\n",
       "      <td>0</td>\n",
       "      <td>0</td>\n",
       "      <td>0</td>\n",
       "    </tr>\n",
       "    <tr>\n",
       "      <th>1</th>\n",
       "      <td>GET</td>\n",
       "      <td>http://localhost:8080/tienda1/publico/anadir.j...</td>\n",
       "      <td>Mozilla/5.0 (compatible; Konqueror/3.5; Linux)...</td>\n",
       "      <td>no-cache</td>\n",
       "      <td>no-cache</td>\n",
       "      <td>text/xml,application/xml,application/xhtml+xml...</td>\n",
       "      <td>x-gzip, x-deflate, gzip, deflate</td>\n",
       "      <td>utf-8, utf-8;q=0.5, *;q=0.5</td>\n",
       "      <td>en</td>\n",
       "      <td>localhost:8080</td>\n",
       "      <td>JSESSIONID=54E25FF4B7F0E4E855B112F882E9EEA5</td>\n",
       "      <td>close</td>\n",
       "      <td>False</td>\n",
       "      <td>NaN</td>\n",
       "      <td>NaN</td>\n",
       "      <td>NaN</td>\n",
       "      <td>Mozilla/5.0</td>\n",
       "      <td>compatible; Konqueror/3.5; Linux</td>\n",
       "      <td>KHTML/3.5.8 (like Gecko)</td>\n",
       "      <td>HTTP/1.1</td>\n",
       "      <td>http://localhost:8080/tienda1/publico/anadir.jsp</td>\n",
       "      <td>[http:, , localhost:8080, tienda1, publico, an...</td>\n",
       "      <td>[id, 1, nombre, Jam%F3n, Ib%E9rico, precio, 39...</td>\n",
       "      <td>[id, 1, nombre, Jam%F3n, Ib%E9rico, precio, 39...</td>\n",
       "      <td>14</td>\n",
       "      <td>12</td>\n",
       "      <td>1</td>\n",
       "      <td>70</td>\n",
       "      <td>132</td>\n",
       "      <td>48</td>\n",
       "      <td>True</td>\n",
       "      <td>9</td>\n",
       "      <td>0</td>\n",
       "      <td>0</td>\n",
       "      <td>5</td>\n",
       "    </tr>\n",
       "  </tbody>\n",
       "</table>\n",
       "</div>"
      ],
      "text/plain": [
       "  method                                                url  \\\n",
       "0    GET   http://localhost:8080/tienda1/index.jsp HTTP/1.1   \n",
       "1    GET  http://localhost:8080/tienda1/publico/anadir.j...   \n",
       "\n",
       "                                          User-Agent    Pragma Cache-control  \\\n",
       "0  Mozilla/5.0 (compatible; Konqueror/3.5; Linux)...  no-cache      no-cache   \n",
       "1  Mozilla/5.0 (compatible; Konqueror/3.5; Linux)...  no-cache      no-cache   \n",
       "\n",
       "                                              Accept  \\\n",
       "0  text/xml,application/xml,application/xhtml+xml...   \n",
       "1  text/xml,application/xml,application/xhtml+xml...   \n",
       "\n",
       "                    Accept-Encoding               Accept-Charset  \\\n",
       "0  x-gzip, x-deflate, gzip, deflate  utf-8, utf-8;q=0.5, *;q=0.5   \n",
       "1  x-gzip, x-deflate, gzip, deflate  utf-8, utf-8;q=0.5, *;q=0.5   \n",
       "\n",
       "  Accept-Language            Host  \\\n",
       "0              en  localhost:8080   \n",
       "1              en  localhost:8080   \n",
       "\n",
       "                                        Cookie Connection  anomalous  \\\n",
       "0  JSESSIONID=EA414B3E327DED6875848530C864BD8F      close      False   \n",
       "1  JSESSIONID=54E25FF4B7F0E4E855B112F882E9EEA5      close      False   \n",
       "\n",
       "  Content-Type Content-Length body      browser  \\\n",
       "0          NaN            NaN  NaN  Mozilla/5.0   \n",
       "1          NaN            NaN  NaN  Mozilla/5.0   \n",
       "\n",
       "                 system-information                  platform  protocol  \\\n",
       "0  compatible; Konqueror/3.5; Linux  KHTML/3.5.8 (like Gecko)  HTTP/1.1   \n",
       "1  compatible; Konqueror/3.5; Linux  KHTML/3.5.8 (like Gecko)  HTTP/1.1   \n",
       "\n",
       "                                           url_only  \\\n",
       "0          http://localhost:8080/tienda1/index.jsp    \n",
       "1  http://localhost:8080/tienda1/publico/anadir.jsp   \n",
       "\n",
       "                                           url_words  \\\n",
       "0  [http:, , localhost:8080, tienda1, index, jsp ...   \n",
       "1  [http:, , localhost:8080, tienda1, publico, an...   \n",
       "\n",
       "                                           arg_words  \\\n",
       "0                                                 []   \n",
       "1  [id, 1, nombre, Jam%F3n, Ib%E9rico, precio, 39...   \n",
       "\n",
       "                                       url_arg_words  num_of_args  \\\n",
       "0  [http:, , localhost:8080, tienda1, index, jsp ...            0   \n",
       "1  [id, 1, nombre, Jam%F3n, Ib%E9rico, precio, 39...           14   \n",
       "\n",
       "   max_length_of_args  min_length_of_args  total_length_args  \\\n",
       "0                   0                   0                  0   \n",
       "1                  12                   1                 70   \n",
       "\n",
       "   total_length_request  lenght_of_path  port_is_common  num_of_paths  \\\n",
       "0                    48              40            True             8   \n",
       "1                   132              48            True             9   \n",
       "\n",
       "   num_sql_words  num_batch_words  num_special_chars  \n",
       "0              0                0                  0  \n",
       "1              0                0                  5  "
      ]
     },
     "execution_count": 16,
     "metadata": {},
     "output_type": "execute_result"
    }
   ],
   "source": [
    "df.head(2)"
   ]
  },
  {
   "cell_type": "code",
   "execution_count": 17,
   "id": "working-health",
   "metadata": {},
   "outputs": [
    {
     "data": {
      "text/html": [
       "<div>\n",
       "<style scoped>\n",
       "    .dataframe tbody tr th:only-of-type {\n",
       "        vertical-align: middle;\n",
       "    }\n",
       "\n",
       "    .dataframe tbody tr th {\n",
       "        vertical-align: top;\n",
       "    }\n",
       "\n",
       "    .dataframe thead th {\n",
       "        text-align: right;\n",
       "    }\n",
       "</style>\n",
       "<table border=\"1\" class=\"dataframe\">\n",
       "  <thead>\n",
       "    <tr style=\"text-align: right;\">\n",
       "      <th></th>\n",
       "      <th>method</th>\n",
       "      <th>Host</th>\n",
       "      <th>anomalous</th>\n",
       "      <th>Content-Type</th>\n",
       "      <th>Content-Length</th>\n",
       "      <th>browser</th>\n",
       "      <th>system-information</th>\n",
       "      <th>platform</th>\n",
       "      <th>protocol</th>\n",
       "      <th>url_words</th>\n",
       "      <th>arg_words</th>\n",
       "      <th>url_arg_words</th>\n",
       "      <th>num_of_args</th>\n",
       "      <th>max_length_of_args</th>\n",
       "      <th>min_length_of_args</th>\n",
       "      <th>total_length_args</th>\n",
       "      <th>total_length_request</th>\n",
       "      <th>lenght_of_path</th>\n",
       "      <th>port_is_common</th>\n",
       "      <th>num_of_paths</th>\n",
       "      <th>num_sql_words</th>\n",
       "      <th>num_batch_words</th>\n",
       "      <th>num_special_chars</th>\n",
       "    </tr>\n",
       "  </thead>\n",
       "  <tbody>\n",
       "    <tr>\n",
       "      <th>0</th>\n",
       "      <td>GET</td>\n",
       "      <td>localhost:8080</td>\n",
       "      <td>False</td>\n",
       "      <td>NaN</td>\n",
       "      <td>NaN</td>\n",
       "      <td>Mozilla/5.0</td>\n",
       "      <td>compatible; Konqueror/3.5; Linux</td>\n",
       "      <td>KHTML/3.5.8 (like Gecko)</td>\n",
       "      <td>HTTP/1.1</td>\n",
       "      <td>[http:, , localhost:8080, tienda1, index, jsp ...</td>\n",
       "      <td>[]</td>\n",
       "      <td>[http:, , localhost:8080, tienda1, index, jsp ...</td>\n",
       "      <td>0</td>\n",
       "      <td>0</td>\n",
       "      <td>0</td>\n",
       "      <td>0</td>\n",
       "      <td>48</td>\n",
       "      <td>40</td>\n",
       "      <td>True</td>\n",
       "      <td>8</td>\n",
       "      <td>0</td>\n",
       "      <td>0</td>\n",
       "      <td>0</td>\n",
       "    </tr>\n",
       "  </tbody>\n",
       "</table>\n",
       "</div>"
      ],
      "text/plain": [
       "  method            Host  anomalous Content-Type Content-Length      browser  \\\n",
       "0    GET  localhost:8080      False          NaN            NaN  Mozilla/5.0   \n",
       "\n",
       "                 system-information                  platform  protocol  \\\n",
       "0  compatible; Konqueror/3.5; Linux  KHTML/3.5.8 (like Gecko)  HTTP/1.1   \n",
       "\n",
       "                                           url_words arg_words  \\\n",
       "0  [http:, , localhost:8080, tienda1, index, jsp ...        []   \n",
       "\n",
       "                                       url_arg_words  num_of_args  \\\n",
       "0  [http:, , localhost:8080, tienda1, index, jsp ...            0   \n",
       "\n",
       "   max_length_of_args  min_length_of_args  total_length_args  \\\n",
       "0                   0                   0                  0   \n",
       "\n",
       "   total_length_request  lenght_of_path  port_is_common  num_of_paths  \\\n",
       "0                    48              40            True             8   \n",
       "\n",
       "   num_sql_words  num_batch_words  num_special_chars  \n",
       "0              0                0                  0  "
      ]
     },
     "execution_count": 17,
     "metadata": {},
     "output_type": "execute_result"
    }
   ],
   "source": [
    "#drop unused cells\n",
    "df = df.drop(['body','url_only','Accept','Pragma','Cache-control', 'url', 'User-Agent','Cookie','Accept-Language', 'Accept-Encoding', 'Accept-Charset','Connection'], 1)\n",
    "df.head(1)"
   ]
  },
  {
   "cell_type": "code",
   "execution_count": 18,
   "id": "smooth-sampling",
   "metadata": {},
   "outputs": [
    {
     "name": "stderr",
     "output_type": "stream",
     "text": [
      "c:\\users\\aisha\\appdata\\local\\programs\\python\\python39\\lib\\site-packages\\sklearn\\utils\\deprecation.py:87: FutureWarning: Function get_feature_names is deprecated; get_feature_names is deprecated in 1.0 and will be removed in 1.2. Please use get_feature_names_out instead.\n",
      "  warnings.warn(msg, category=FutureWarning)\n"
     ]
    },
    {
     "data": {
      "text/html": [
       "<div>\n",
       "<style scoped>\n",
       "    .dataframe tbody tr th:only-of-type {\n",
       "        vertical-align: middle;\n",
       "    }\n",
       "\n",
       "    .dataframe tbody tr th {\n",
       "        vertical-align: top;\n",
       "    }\n",
       "\n",
       "    .dataframe thead th {\n",
       "        text-align: right;\n",
       "    }\n",
       "</style>\n",
       "<table border=\"1\" class=\"dataframe\">\n",
       "  <thead>\n",
       "    <tr style=\"text-align: right;\">\n",
       "      <th></th>\n",
       "      <th>anomalous</th>\n",
       "      <th>Content-Length</th>\n",
       "      <th>url_words</th>\n",
       "      <th>arg_words</th>\n",
       "      <th>url_arg_words</th>\n",
       "      <th>num_of_args</th>\n",
       "      <th>max_length_of_args</th>\n",
       "      <th>min_length_of_args</th>\n",
       "      <th>total_length_args</th>\n",
       "      <th>total_length_request</th>\n",
       "      <th>lenght_of_path</th>\n",
       "      <th>port_is_common</th>\n",
       "      <th>num_of_paths</th>\n",
       "      <th>num_sql_words</th>\n",
       "      <th>num_batch_words</th>\n",
       "      <th>num_special_chars</th>\n",
       "      <th>x0_GET</th>\n",
       "      <th>x0_POST</th>\n",
       "      <th>x0_PUT</th>\n",
       "      <th>x1_localhost:8080</th>\n",
       "      <th>x1_localhost:9090</th>\n",
       "      <th>x2_application/x-www-form-urlencoded</th>\n",
       "      <th>x2_nan</th>\n",
       "      <th>x3_Mozilla/5.0</th>\n",
       "      <th>x4_KHTML/3.5.8 (like Gecko)</th>\n",
       "      <th>x5_HTTP/1.1</th>\n",
       "      <th>x6_compatible; Konqueror/3.5; Linux</th>\n",
       "    </tr>\n",
       "  </thead>\n",
       "  <tbody>\n",
       "    <tr>\n",
       "      <th>0</th>\n",
       "      <td>False</td>\n",
       "      <td>0</td>\n",
       "      <td>[http:, , localhost:8080, tienda1, index, jsp ...</td>\n",
       "      <td>[]</td>\n",
       "      <td>[http:, , localhost:8080, tienda1, index, jsp ...</td>\n",
       "      <td>0</td>\n",
       "      <td>0</td>\n",
       "      <td>0</td>\n",
       "      <td>0</td>\n",
       "      <td>48</td>\n",
       "      <td>40</td>\n",
       "      <td>True</td>\n",
       "      <td>8</td>\n",
       "      <td>0</td>\n",
       "      <td>0</td>\n",
       "      <td>0</td>\n",
       "      <td>1.0</td>\n",
       "      <td>0.0</td>\n",
       "      <td>0.0</td>\n",
       "      <td>1.0</td>\n",
       "      <td>0.0</td>\n",
       "      <td>0.0</td>\n",
       "      <td>1.0</td>\n",
       "      <td>1.0</td>\n",
       "      <td>1.0</td>\n",
       "      <td>1.0</td>\n",
       "      <td>1.0</td>\n",
       "    </tr>\n",
       "    <tr>\n",
       "      <th>1</th>\n",
       "      <td>False</td>\n",
       "      <td>0</td>\n",
       "      <td>[http:, , localhost:8080, tienda1, publico, an...</td>\n",
       "      <td>[id, 1, nombre, Jam%F3n, Ib%E9rico, precio, 39...</td>\n",
       "      <td>[id, 1, nombre, Jam%F3n, Ib%E9rico, precio, 39...</td>\n",
       "      <td>14</td>\n",
       "      <td>12</td>\n",
       "      <td>1</td>\n",
       "      <td>70</td>\n",
       "      <td>132</td>\n",
       "      <td>48</td>\n",
       "      <td>True</td>\n",
       "      <td>9</td>\n",
       "      <td>0</td>\n",
       "      <td>0</td>\n",
       "      <td>5</td>\n",
       "      <td>1.0</td>\n",
       "      <td>0.0</td>\n",
       "      <td>0.0</td>\n",
       "      <td>1.0</td>\n",
       "      <td>0.0</td>\n",
       "      <td>0.0</td>\n",
       "      <td>1.0</td>\n",
       "      <td>1.0</td>\n",
       "      <td>1.0</td>\n",
       "      <td>1.0</td>\n",
       "      <td>1.0</td>\n",
       "    </tr>\n",
       "    <tr>\n",
       "      <th>2</th>\n",
       "      <td>False</td>\n",
       "      <td>74</td>\n",
       "      <td>[http:, , localhost:8080, tienda1, publico, an...</td>\n",
       "      <td>[id, 1, nombre, Jam%F3n, Ib%E9rico, precio, 39...</td>\n",
       "      <td>[id, 1, nombre, Jam%F3n, Ib%E9rico, precio, 39...</td>\n",
       "      <td>13</td>\n",
       "      <td>9</td>\n",
       "      <td>1</td>\n",
       "      <td>62</td>\n",
       "      <td>57</td>\n",
       "      <td>49</td>\n",
       "      <td>True</td>\n",
       "      <td>9</td>\n",
       "      <td>0</td>\n",
       "      <td>0</td>\n",
       "      <td>3</td>\n",
       "      <td>0.0</td>\n",
       "      <td>1.0</td>\n",
       "      <td>0.0</td>\n",
       "      <td>1.0</td>\n",
       "      <td>0.0</td>\n",
       "      <td>1.0</td>\n",
       "      <td>0.0</td>\n",
       "      <td>1.0</td>\n",
       "      <td>1.0</td>\n",
       "      <td>1.0</td>\n",
       "      <td>1.0</td>\n",
       "    </tr>\n",
       "    <tr>\n",
       "      <th>3</th>\n",
       "      <td>False</td>\n",
       "      <td>0</td>\n",
       "      <td>[http:, , localhost:8080, tienda1, publico, au...</td>\n",
       "      <td>[modo, entrar, login, caria, pwd, egipciaca, r...</td>\n",
       "      <td>[modo, entrar, login, caria, pwd, egipciaca, r...</td>\n",
       "      <td>11</td>\n",
       "      <td>11</td>\n",
       "      <td>2</td>\n",
       "      <td>59</td>\n",
       "      <td>122</td>\n",
       "      <td>52</td>\n",
       "      <td>True</td>\n",
       "      <td>9</td>\n",
       "      <td>0</td>\n",
       "      <td>0</td>\n",
       "      <td>2</td>\n",
       "      <td>1.0</td>\n",
       "      <td>0.0</td>\n",
       "      <td>0.0</td>\n",
       "      <td>1.0</td>\n",
       "      <td>0.0</td>\n",
       "      <td>0.0</td>\n",
       "      <td>1.0</td>\n",
       "      <td>1.0</td>\n",
       "      <td>1.0</td>\n",
       "      <td>1.0</td>\n",
       "      <td>1.0</td>\n",
       "    </tr>\n",
       "    <tr>\n",
       "      <th>4</th>\n",
       "      <td>False</td>\n",
       "      <td>60</td>\n",
       "      <td>[http:, , localhost:8080, tienda1, publico, au...</td>\n",
       "      <td>[modo, entrar, login, caria, pwd, egipciaca, r...</td>\n",
       "      <td>[modo, entrar, login, caria, pwd, egipciaca, r...</td>\n",
       "      <td>10</td>\n",
       "      <td>9</td>\n",
       "      <td>2</td>\n",
       "      <td>51</td>\n",
       "      <td>61</td>\n",
       "      <td>53</td>\n",
       "      <td>True</td>\n",
       "      <td>9</td>\n",
       "      <td>0</td>\n",
       "      <td>0</td>\n",
       "      <td>0</td>\n",
       "      <td>0.0</td>\n",
       "      <td>1.0</td>\n",
       "      <td>0.0</td>\n",
       "      <td>1.0</td>\n",
       "      <td>0.0</td>\n",
       "      <td>1.0</td>\n",
       "      <td>0.0</td>\n",
       "      <td>1.0</td>\n",
       "      <td>1.0</td>\n",
       "      <td>1.0</td>\n",
       "      <td>1.0</td>\n",
       "    </tr>\n",
       "  </tbody>\n",
       "</table>\n",
       "</div>"
      ],
      "text/plain": [
       "   anomalous  Content-Length  \\\n",
       "0      False               0   \n",
       "1      False               0   \n",
       "2      False              74   \n",
       "3      False               0   \n",
       "4      False              60   \n",
       "\n",
       "                                           url_words  \\\n",
       "0  [http:, , localhost:8080, tienda1, index, jsp ...   \n",
       "1  [http:, , localhost:8080, tienda1, publico, an...   \n",
       "2  [http:, , localhost:8080, tienda1, publico, an...   \n",
       "3  [http:, , localhost:8080, tienda1, publico, au...   \n",
       "4  [http:, , localhost:8080, tienda1, publico, au...   \n",
       "\n",
       "                                           arg_words  \\\n",
       "0                                                 []   \n",
       "1  [id, 1, nombre, Jam%F3n, Ib%E9rico, precio, 39...   \n",
       "2  [id, 1, nombre, Jam%F3n, Ib%E9rico, precio, 39...   \n",
       "3  [modo, entrar, login, caria, pwd, egipciaca, r...   \n",
       "4  [modo, entrar, login, caria, pwd, egipciaca, r...   \n",
       "\n",
       "                                       url_arg_words  num_of_args  \\\n",
       "0  [http:, , localhost:8080, tienda1, index, jsp ...            0   \n",
       "1  [id, 1, nombre, Jam%F3n, Ib%E9rico, precio, 39...           14   \n",
       "2  [id, 1, nombre, Jam%F3n, Ib%E9rico, precio, 39...           13   \n",
       "3  [modo, entrar, login, caria, pwd, egipciaca, r...           11   \n",
       "4  [modo, entrar, login, caria, pwd, egipciaca, r...           10   \n",
       "\n",
       "   max_length_of_args  min_length_of_args  total_length_args  \\\n",
       "0                   0                   0                  0   \n",
       "1                  12                   1                 70   \n",
       "2                   9                   1                 62   \n",
       "3                  11                   2                 59   \n",
       "4                   9                   2                 51   \n",
       "\n",
       "   total_length_request  lenght_of_path  port_is_common  num_of_paths  \\\n",
       "0                    48              40            True             8   \n",
       "1                   132              48            True             9   \n",
       "2                    57              49            True             9   \n",
       "3                   122              52            True             9   \n",
       "4                    61              53            True             9   \n",
       "\n",
       "   num_sql_words  num_batch_words  num_special_chars  x0_GET  x0_POST  x0_PUT  \\\n",
       "0              0                0                  0     1.0      0.0     0.0   \n",
       "1              0                0                  5     1.0      0.0     0.0   \n",
       "2              0                0                  3     0.0      1.0     0.0   \n",
       "3              0                0                  2     1.0      0.0     0.0   \n",
       "4              0                0                  0     0.0      1.0     0.0   \n",
       "\n",
       "   x1_localhost:8080  x1_localhost:9090  x2_application/x-www-form-urlencoded  \\\n",
       "0                1.0                0.0                                   0.0   \n",
       "1                1.0                0.0                                   0.0   \n",
       "2                1.0                0.0                                   1.0   \n",
       "3                1.0                0.0                                   0.0   \n",
       "4                1.0                0.0                                   1.0   \n",
       "\n",
       "   x2_nan  x3_Mozilla/5.0  x4_KHTML/3.5.8 (like Gecko)  x5_HTTP/1.1  \\\n",
       "0     1.0             1.0                          1.0          1.0   \n",
       "1     1.0             1.0                          1.0          1.0   \n",
       "2     0.0             1.0                          1.0          1.0   \n",
       "3     1.0             1.0                          1.0          1.0   \n",
       "4     0.0             1.0                          1.0          1.0   \n",
       "\n",
       "   x6_compatible; Konqueror/3.5; Linux  \n",
       "0                                  1.0  \n",
       "1                                  1.0  \n",
       "2                                  1.0  \n",
       "3                                  1.0  \n",
       "4                                  1.0  "
      ]
     },
     "execution_count": 18,
     "metadata": {},
     "output_type": "execute_result"
    }
   ],
   "source": [
    "    \n",
    "#one hot encoding\n",
    "to_encode_one_hot = ['method', 'Host','Content-Type', 'browser', 'platform','protocol', 'system-information']\n",
    "enc = preprocessing.OneHotEncoder(sparse=False, handle_unknown='ignore')\n",
    "enc.fit(df[to_encode_one_hot] )\n",
    "encoded = pd.DataFrame( enc.transform( df[to_encode_one_hot] ), columns=enc.get_feature_names() )\n",
    "df = pd.concat ([df, encoded] , axis=1)\n",
    "\n",
    "#fill nulls\n",
    "df['Content-Length'] = df['Content-Length'].fillna(0)\n",
    "df['Content-Length'] = df['Content-Length'].astype(str).astype(int)\n",
    "\n",
    "df = df.drop(to_encode_one_hot, axis=1)\n",
    "df.head(5)"
   ]
  },
  {
   "cell_type": "code",
   "execution_count": 19,
   "id": "nervous-stream",
   "metadata": {},
   "outputs": [],
   "source": [
    "#df.drop(['url_words', 'arg_words'],1).to_csv('../data/interim/2_extracted_features_without_word_vector.csv')"
   ]
  },
  {
   "cell_type": "markdown",
   "id": "closing-brighton",
   "metadata": {},
   "source": [
    "####  Vectorization"
   ]
  },
  {
   "cell_type": "code",
   "execution_count": 20,
   "id": "supreme-lease",
   "metadata": {},
   "outputs": [
    {
     "data": {
      "text/plain": [
       "[TaggedDocument(words=[], tags=[0]),\n",
       " TaggedDocument(words=['id', '1', 'nombre', 'Jam%F3n', 'Ib%E9rico', 'precio', '39', 'cantidad', '41', 'B1', 'A%F1adir', 'al', 'carrito HTTP', '1.1'], tags=[1])]"
      ]
     },
     "execution_count": 20,
     "metadata": {},
     "output_type": "execute_result"
    }
   ],
   "source": [
    "# doc2vec vecotirzation\n",
    "\n",
    "#tokenize and tag the card text\n",
    "card_docs = [TaggedDocument(words, [i]) \n",
    "             for i, words in enumerate(df.arg_words)]\n",
    "card_docs[0:2]"
   ]
  },
  {
   "cell_type": "code",
   "execution_count": 21,
   "id": "spread-correction",
   "metadata": {},
   "outputs": [],
   "source": [
    "#create model\n",
    "model = Doc2Vec(vector_size=90, min_count=1, epochs = 30)\n",
    "model.build_vocab(card_docs)\n",
    "model.train(card_docs, total_examples=model.corpus_count, epochs=model.epochs)\n"
   ]
  },
  {
   "cell_type": "code",
   "execution_count": 22,
   "id": "amended-drilling",
   "metadata": {
    "scrolled": true
   },
   "outputs": [],
   "source": [
    "#generate vectors\n",
    "card2vec = [model.infer_vector(df['arg_words'][i]) \n",
    "            for i in range(0,len(df['arg_words']))]\n",
    "#card2vec[0]"
   ]
  },
  {
   "cell_type": "code",
   "execution_count": 23,
   "id": "based-major",
   "metadata": {},
   "outputs": [],
   "source": [
    "#Create a list of lists\n",
    "dtv= np.array(card2vec).tolist()\n",
    "\n",
    "#set list to dataframe column\n",
    "#df['card2vec'] = dtv\n",
    "#df.head(2)"
   ]
  },
  {
   "cell_type": "code",
   "execution_count": 24,
   "id": "innocent-chuck",
   "metadata": {},
   "outputs": [
    {
     "data": {
      "text/plain": [
       "(97065, 91)"
      ]
     },
     "execution_count": 24,
     "metadata": {},
     "output_type": "execute_result"
    }
   ],
   "source": [
    "#create df out of vectors\n",
    "df_vecs = pd.DataFrame( dtv )\n",
    "df_vecs['anomalous'] = df['anomalous']\n",
    "df_vecs.shape"
   ]
  },
  {
   "cell_type": "code",
   "execution_count": 25,
   "id": "identical-accuracy",
   "metadata": {},
   "outputs": [],
   "source": [
    "#url vectorization omitted\n",
    "#found to be not useful\n"
   ]
  },
  {
   "cell_type": "code",
   "execution_count": 26,
   "id": "usual-shareware",
   "metadata": {},
   "outputs": [],
   "source": [
    "df = df.drop(['url_words', 'arg_words', 'url_arg_words'],axis=1)"
   ]
  },
  {
   "cell_type": "code",
   "execution_count": 27,
   "id": "dominican-spray",
   "metadata": {},
   "outputs": [
    {
     "data": {
      "text/html": [
       "<div>\n",
       "<style scoped>\n",
       "    .dataframe tbody tr th:only-of-type {\n",
       "        vertical-align: middle;\n",
       "    }\n",
       "\n",
       "    .dataframe tbody tr th {\n",
       "        vertical-align: top;\n",
       "    }\n",
       "\n",
       "    .dataframe thead th {\n",
       "        text-align: right;\n",
       "    }\n",
       "</style>\n",
       "<table border=\"1\" class=\"dataframe\">\n",
       "  <thead>\n",
       "    <tr style=\"text-align: right;\">\n",
       "      <th></th>\n",
       "      <th>Content-Length</th>\n",
       "      <th>num_of_args</th>\n",
       "      <th>max_length_of_args</th>\n",
       "      <th>min_length_of_args</th>\n",
       "      <th>total_length_args</th>\n",
       "      <th>total_length_request</th>\n",
       "      <th>lenght_of_path</th>\n",
       "      <th>port_is_common</th>\n",
       "      <th>num_of_paths</th>\n",
       "      <th>num_sql_words</th>\n",
       "      <th>num_batch_words</th>\n",
       "      <th>num_special_chars</th>\n",
       "      <th>x0_GET</th>\n",
       "      <th>x0_POST</th>\n",
       "      <th>x0_PUT</th>\n",
       "      <th>x1_localhost:8080</th>\n",
       "      <th>x1_localhost:9090</th>\n",
       "      <th>x2_application/x-www-form-urlencoded</th>\n",
       "      <th>x2_nan</th>\n",
       "      <th>x3_Mozilla/5.0</th>\n",
       "      <th>x4_KHTML/3.5.8 (like Gecko)</th>\n",
       "      <th>x5_HTTP/1.1</th>\n",
       "      <th>x6_compatible; Konqueror/3.5; Linux</th>\n",
       "      <th>0</th>\n",
       "      <th>1</th>\n",
       "      <th>2</th>\n",
       "      <th>3</th>\n",
       "      <th>4</th>\n",
       "      <th>5</th>\n",
       "      <th>6</th>\n",
       "      <th>7</th>\n",
       "      <th>8</th>\n",
       "      <th>9</th>\n",
       "      <th>10</th>\n",
       "      <th>11</th>\n",
       "      <th>12</th>\n",
       "      <th>13</th>\n",
       "      <th>14</th>\n",
       "      <th>15</th>\n",
       "      <th>16</th>\n",
       "      <th>17</th>\n",
       "      <th>18</th>\n",
       "      <th>19</th>\n",
       "      <th>20</th>\n",
       "      <th>21</th>\n",
       "      <th>22</th>\n",
       "      <th>23</th>\n",
       "      <th>24</th>\n",
       "      <th>25</th>\n",
       "      <th>26</th>\n",
       "      <th>27</th>\n",
       "      <th>28</th>\n",
       "      <th>29</th>\n",
       "      <th>30</th>\n",
       "      <th>31</th>\n",
       "      <th>32</th>\n",
       "      <th>33</th>\n",
       "      <th>34</th>\n",
       "      <th>35</th>\n",
       "      <th>36</th>\n",
       "      <th>37</th>\n",
       "      <th>38</th>\n",
       "      <th>39</th>\n",
       "      <th>40</th>\n",
       "      <th>41</th>\n",
       "      <th>42</th>\n",
       "      <th>43</th>\n",
       "      <th>44</th>\n",
       "      <th>45</th>\n",
       "      <th>46</th>\n",
       "      <th>47</th>\n",
       "      <th>48</th>\n",
       "      <th>49</th>\n",
       "      <th>50</th>\n",
       "      <th>51</th>\n",
       "      <th>52</th>\n",
       "      <th>53</th>\n",
       "      <th>54</th>\n",
       "      <th>55</th>\n",
       "      <th>56</th>\n",
       "      <th>57</th>\n",
       "      <th>58</th>\n",
       "      <th>59</th>\n",
       "      <th>60</th>\n",
       "      <th>61</th>\n",
       "      <th>62</th>\n",
       "      <th>63</th>\n",
       "      <th>64</th>\n",
       "      <th>65</th>\n",
       "      <th>66</th>\n",
       "      <th>67</th>\n",
       "      <th>68</th>\n",
       "      <th>69</th>\n",
       "      <th>70</th>\n",
       "      <th>71</th>\n",
       "      <th>72</th>\n",
       "      <th>73</th>\n",
       "      <th>74</th>\n",
       "      <th>75</th>\n",
       "      <th>76</th>\n",
       "      <th>77</th>\n",
       "      <th>78</th>\n",
       "      <th>79</th>\n",
       "      <th>80</th>\n",
       "      <th>81</th>\n",
       "      <th>82</th>\n",
       "      <th>83</th>\n",
       "      <th>84</th>\n",
       "      <th>85</th>\n",
       "      <th>86</th>\n",
       "      <th>87</th>\n",
       "      <th>88</th>\n",
       "      <th>89</th>\n",
       "      <th>anomalous</th>\n",
       "    </tr>\n",
       "  </thead>\n",
       "  <tbody>\n",
       "    <tr>\n",
       "      <th>0</th>\n",
       "      <td>0</td>\n",
       "      <td>0</td>\n",
       "      <td>0</td>\n",
       "      <td>0</td>\n",
       "      <td>0</td>\n",
       "      <td>48</td>\n",
       "      <td>40</td>\n",
       "      <td>True</td>\n",
       "      <td>8</td>\n",
       "      <td>0</td>\n",
       "      <td>0</td>\n",
       "      <td>0</td>\n",
       "      <td>1.0</td>\n",
       "      <td>0.0</td>\n",
       "      <td>0.0</td>\n",
       "      <td>1.0</td>\n",
       "      <td>0.0</td>\n",
       "      <td>0.0</td>\n",
       "      <td>1.0</td>\n",
       "      <td>1.0</td>\n",
       "      <td>1.0</td>\n",
       "      <td>1.0</td>\n",
       "      <td>1.0</td>\n",
       "      <td>0.000542</td>\n",
       "      <td>0.002391</td>\n",
       "      <td>0.001142</td>\n",
       "      <td>0.000499</td>\n",
       "      <td>-0.000848</td>\n",
       "      <td>0.001621</td>\n",
       "      <td>-0.000693</td>\n",
       "      <td>0.004353</td>\n",
       "      <td>0.005152</td>\n",
       "      <td>-0.001295</td>\n",
       "      <td>0.003241</td>\n",
       "      <td>0.000321</td>\n",
       "      <td>0.000756</td>\n",
       "      <td>0.004729</td>\n",
       "      <td>-0.004766</td>\n",
       "      <td>-0.004587</td>\n",
       "      <td>-0.005331</td>\n",
       "      <td>0.003696</td>\n",
       "      <td>0.003091</td>\n",
       "      <td>0.004111</td>\n",
       "      <td>0.005318</td>\n",
       "      <td>0.003324</td>\n",
       "      <td>-0.000428</td>\n",
       "      <td>0.003117</td>\n",
       "      <td>-0.004241</td>\n",
       "      <td>0.001555</td>\n",
       "      <td>-0.003963</td>\n",
       "      <td>0.004941</td>\n",
       "      <td>0.000243</td>\n",
       "      <td>-0.000948</td>\n",
       "      <td>-0.002616</td>\n",
       "      <td>0.003047</td>\n",
       "      <td>-0.000487</td>\n",
       "      <td>0.00076</td>\n",
       "      <td>-0.005347</td>\n",
       "      <td>0.001307</td>\n",
       "      <td>0.001246</td>\n",
       "      <td>0.001299</td>\n",
       "      <td>0.004931</td>\n",
       "      <td>0.00202</td>\n",
       "      <td>-0.001561</td>\n",
       "      <td>-0.0007</td>\n",
       "      <td>0.002196</td>\n",
       "      <td>-0.004886</td>\n",
       "      <td>0.001853</td>\n",
       "      <td>0.001896</td>\n",
       "      <td>-0.003218</td>\n",
       "      <td>-0.004123</td>\n",
       "      <td>-0.002051</td>\n",
       "      <td>-0.001514</td>\n",
       "      <td>0.00078</td>\n",
       "      <td>-0.000682</td>\n",
       "      <td>0.005426</td>\n",
       "      <td>-0.004422</td>\n",
       "      <td>-0.003235</td>\n",
       "      <td>-0.003763</td>\n",
       "      <td>0.001701</td>\n",
       "      <td>-0.002741</td>\n",
       "      <td>-0.000374</td>\n",
       "      <td>-0.00284</td>\n",
       "      <td>-0.003789</td>\n",
       "      <td>-0.004329</td>\n",
       "      <td>0.001737</td>\n",
       "      <td>-0.00402</td>\n",
       "      <td>-0.003371</td>\n",
       "      <td>-0.001459</td>\n",
       "      <td>0.003567</td>\n",
       "      <td>-0.004477</td>\n",
       "      <td>0.003755</td>\n",
       "      <td>-0.004488</td>\n",
       "      <td>0.005294</td>\n",
       "      <td>-0.000348</td>\n",
       "      <td>0.005297</td>\n",
       "      <td>0.001165</td>\n",
       "      <td>0.002658</td>\n",
       "      <td>-0.00512</td>\n",
       "      <td>-0.002413</td>\n",
       "      <td>-0.00422</td>\n",
       "      <td>-0.002265</td>\n",
       "      <td>-0.004236</td>\n",
       "      <td>-0.002022</td>\n",
       "      <td>-0.000953</td>\n",
       "      <td>-0.004843</td>\n",
       "      <td>0.002139</td>\n",
       "      <td>0.00074</td>\n",
       "      <td>-0.002607</td>\n",
       "      <td>0.000258</td>\n",
       "      <td>-0.004512</td>\n",
       "      <td>0.000844</td>\n",
       "      <td>0.00477</td>\n",
       "      <td>False</td>\n",
       "    </tr>\n",
       "  </tbody>\n",
       "</table>\n",
       "</div>"
      ],
      "text/plain": [
       "   Content-Length  num_of_args  max_length_of_args  min_length_of_args  \\\n",
       "0               0            0                   0                   0   \n",
       "\n",
       "   total_length_args  total_length_request  lenght_of_path  port_is_common  \\\n",
       "0                  0                    48              40            True   \n",
       "\n",
       "   num_of_paths  num_sql_words  num_batch_words  num_special_chars  x0_GET  \\\n",
       "0             8              0                0                  0     1.0   \n",
       "\n",
       "   x0_POST  x0_PUT  x1_localhost:8080  x1_localhost:9090  \\\n",
       "0      0.0     0.0                1.0                0.0   \n",
       "\n",
       "   x2_application/x-www-form-urlencoded  x2_nan  x3_Mozilla/5.0  \\\n",
       "0                                   0.0     1.0             1.0   \n",
       "\n",
       "   x4_KHTML/3.5.8 (like Gecko)  x5_HTTP/1.1  \\\n",
       "0                          1.0          1.0   \n",
       "\n",
       "   x6_compatible; Konqueror/3.5; Linux         0         1         2  \\\n",
       "0                                  1.0  0.000542  0.002391  0.001142   \n",
       "\n",
       "          3         4         5         6         7         8         9  \\\n",
       "0  0.000499 -0.000848  0.001621 -0.000693  0.004353  0.005152 -0.001295   \n",
       "\n",
       "         10        11        12        13        14        15        16  \\\n",
       "0  0.003241  0.000321  0.000756  0.004729 -0.004766 -0.004587 -0.005331   \n",
       "\n",
       "         17        18        19        20        21        22        23  \\\n",
       "0  0.003696  0.003091  0.004111  0.005318  0.003324 -0.000428  0.003117   \n",
       "\n",
       "         24        25        26        27        28        29        30  \\\n",
       "0 -0.004241  0.001555 -0.003963  0.004941  0.000243 -0.000948 -0.002616   \n",
       "\n",
       "         31        32       33        34        35        36        37  \\\n",
       "0  0.003047 -0.000487  0.00076 -0.005347  0.001307  0.001246  0.001299   \n",
       "\n",
       "         38       39        40      41        42        43        44  \\\n",
       "0  0.004931  0.00202 -0.001561 -0.0007  0.002196 -0.004886  0.001853   \n",
       "\n",
       "         45        46        47        48        49       50        51  \\\n",
       "0  0.001896 -0.003218 -0.004123 -0.002051 -0.001514  0.00078 -0.000682   \n",
       "\n",
       "         52        53        54        55        56        57        58  \\\n",
       "0  0.005426 -0.004422 -0.003235 -0.003763  0.001701 -0.002741 -0.000374   \n",
       "\n",
       "        59        60        61        62       63        64        65  \\\n",
       "0 -0.00284 -0.003789 -0.004329  0.001737 -0.00402 -0.003371 -0.001459   \n",
       "\n",
       "         66        67        68        69        70        71        72  \\\n",
       "0  0.003567 -0.004477  0.003755 -0.004488  0.005294 -0.000348  0.005297   \n",
       "\n",
       "         73        74       75        76       77        78        79  \\\n",
       "0  0.001165  0.002658 -0.00512 -0.002413 -0.00422 -0.002265 -0.004236   \n",
       "\n",
       "         80        81        82        83       84        85        86  \\\n",
       "0 -0.002022 -0.000953 -0.004843  0.002139  0.00074 -0.002607  0.000258   \n",
       "\n",
       "         87        88       89  anomalous  \n",
       "0 -0.004512  0.000844  0.00477      False  "
      ]
     },
     "execution_count": 27,
     "metadata": {},
     "output_type": "execute_result"
    }
   ],
   "source": [
    "#df = df.drop(['card2vec'],1)\n",
    "\n",
    "df_combined = df.drop(['anomalous'],1).join(df_vecs)\n",
    "df_combined.head(1)"
   ]
  },
  {
   "cell_type": "code",
   "execution_count": 28,
   "id": "widespread-ecology",
   "metadata": {},
   "outputs": [],
   "source": [
    "#df_combined.to_csv('../data/interim/3_extracted_features_with_word_vectors.csv')"
   ]
  },
  {
   "cell_type": "markdown",
   "id": "brilliant-karaoke",
   "metadata": {},
   "source": [
    "# Models"
   ]
  },
  {
   "cell_type": "code",
   "execution_count": 29,
   "id": "becoming-cincinnati",
   "metadata": {},
   "outputs": [
    {
     "data": {
      "text/plain": [
       "False    72000\n",
       "True     25065\n",
       "Name: anomalous, dtype: int64"
      ]
     },
     "execution_count": 29,
     "metadata": {},
     "output_type": "execute_result"
    }
   ],
   "source": [
    "df['anomalous'].value_counts()"
   ]
  },
  {
   "cell_type": "code",
   "execution_count": 74,
   "id": "structural-youth",
   "metadata": {},
   "outputs": [
    {
     "data": {
      "text/plain": [
       "(67945, 113)"
      ]
     },
     "execution_count": 74,
     "metadata": {},
     "output_type": "execute_result"
    }
   ],
   "source": [
    "#without vectors (do not run the doc2vec section)\n",
    "# df = df.drop(['url_words', 'arg_words'],axis=1)\n",
    "# X_train, X_test, y_train, y_test = train_test_split(df.drop('anomalous',1), df['anomalous'], \n",
    "#                                                   test_size=0.3, random_state=42, shuffle = True)\n",
    "\n",
    "#with vectors\n",
    "X_train, X_test, y_train, y_test = train_test_split(df_combined.drop('anomalous',1), df['anomalous'], \n",
    "                                                    test_size=0.3, random_state=42, shuffle = True)\n",
    "X_train.shape"
   ]
  },
  {
   "cell_type": "code",
   "execution_count": 75,
   "id": "literary-skirt",
   "metadata": {},
   "outputs": [
    {
     "data": {
      "text/plain": [
       "False    50351\n",
       "True     17594\n",
       "Name: anomalous, dtype: int64"
      ]
     },
     "execution_count": 75,
     "metadata": {},
     "output_type": "execute_result"
    }
   ],
   "source": [
    "y_train.value_counts()"
   ]
  },
  {
   "cell_type": "code",
   "execution_count": 66,
   "id": "northern-alloy",
   "metadata": {},
   "outputs": [
    {
     "name": "stderr",
     "output_type": "stream",
     "text": [
      "c:\\users\\aisha\\appdata\\local\\programs\\python\\python39\\lib\\site-packages\\sklearn\\utils\\validation.py:1675: FutureWarning: Feature names only support names that are all strings. Got feature names with dtypes: ['int', 'str']. An error will be raised in 1.2.\n",
      "  warnings.warn(\n"
     ]
    },
    {
     "name": "stdout",
     "output_type": "stream",
     "text": [
      "(95666, 113)\n"
     ]
    }
   ],
   "source": [
    "# from imblearn.over_sampling import RandomOverSampler\n",
    "# from imblearn.under_sampling import RandomUnderSampler\n",
    "# #oversampling the anomalous class\n",
    "\n",
    "# # define oversampling strategy\n",
    "# oversample = RandomOverSampler(sampling_strategy=0.9)\n",
    "# X_train, y_train = oversample.fit_resample(X_train, y_train)\n",
    "# print( X_train.shape)\n",
    "# undersample = RandomUnderSampler(sampling_strategy=0.6)\n",
    "# X_train, y_train = undersample.fit_resample(X_train, y_train)\n",
    "# print(X_train.shape)"
   ]
  },
  {
   "cell_type": "code",
   "execution_count": 67,
   "id": "peripheral-helping",
   "metadata": {},
   "outputs": [
    {
     "data": {
      "text/plain": [
       "False    50351\n",
       "True     45315\n",
       "Name: anomalous, dtype: int64"
      ]
     },
     "execution_count": 67,
     "metadata": {},
     "output_type": "execute_result"
    }
   ],
   "source": [
    "y_train.value_counts()"
   ]
  },
  {
   "cell_type": "markdown",
   "id": "intensive-solution",
   "metadata": {},
   "source": [
    "##  Decision Tree"
   ]
  },
  {
   "cell_type": "code",
   "execution_count": 89,
   "id": "advised-catering",
   "metadata": {
    "scrolled": true
   },
   "outputs": [
    {
     "name": "stderr",
     "output_type": "stream",
     "text": [
      "c:\\users\\aisha\\appdata\\local\\programs\\python\\python39\\lib\\site-packages\\sklearn\\utils\\validation.py:1675: FutureWarning: Feature names only support names that are all strings. Got feature names with dtypes: ['int', 'str']. An error will be raised in 1.2.\n",
      "  warnings.warn(\n",
      "c:\\users\\aisha\\appdata\\local\\programs\\python\\python39\\lib\\site-packages\\sklearn\\utils\\validation.py:1675: FutureWarning: Feature names only support names that are all strings. Got feature names with dtypes: ['int', 'str']. An error will be raised in 1.2.\n",
      "  warnings.warn(\n"
     ]
    },
    {
     "name": "stdout",
     "output_type": "stream",
     "text": [
      "0.4360013008117676\n"
     ]
    }
   ],
   "source": [
    "#train model\n",
    "clf = tree.DecisionTreeClassifier()\n",
    "clf = clf.fit(X_train, y_train)\n",
    "\n",
    "t0 = time.time()\n",
    "predicted = clf.predict( X_test)\n",
    "print(time.time()-t0)"
   ]
  },
  {
   "cell_type": "code",
   "execution_count": 90,
   "id": "small-impact",
   "metadata": {},
   "outputs": [
    {
     "name": "stdout",
     "output_type": "stream",
     "text": [
      "Test Set:\n",
      "              precision    recall  f1-score   support\n",
      "\n",
      "       False       0.96      0.96      0.96     21649\n",
      "        True       0.90      0.88      0.89      7471\n",
      "\n",
      "    accuracy                           0.94     29120\n",
      "   macro avg       0.93      0.92      0.93     29120\n",
      "weighted avg       0.94      0.94      0.94     29120\n",
      "\n",
      "\n",
      "Training Set:\n"
     ]
    },
    {
     "name": "stderr",
     "output_type": "stream",
     "text": [
      "c:\\users\\aisha\\appdata\\local\\programs\\python\\python39\\lib\\site-packages\\sklearn\\utils\\validation.py:1675: FutureWarning: Feature names only support names that are all strings. Got feature names with dtypes: ['int', 'str']. An error will be raised in 1.2.\n",
      "  warnings.warn(\n"
     ]
    },
    {
     "name": "stdout",
     "output_type": "stream",
     "text": [
      "              precision    recall  f1-score   support\n",
      "\n",
      "       False       1.00      1.00      1.00     50351\n",
      "        True       1.00      0.99      1.00     17594\n",
      "\n",
      "    accuracy                           1.00     67945\n",
      "   macro avg       1.00      1.00      1.00     67945\n",
      "weighted avg       1.00      1.00      1.00     67945\n",
      "\n"
     ]
    }
   ],
   "source": [
    "print(\"Test Set:\")\n",
    "print( metrics.classification_report(y_test, predicted) )\n",
    "\n",
    "print(\"\\nTraining Set:\")\n",
    "print( metrics.classification_report(y_train, clf.predict( X_train)) )"
   ]
  },
  {
   "cell_type": "code",
   "execution_count": 51,
   "id": "fifty-final",
   "metadata": {},
   "outputs": [],
   "source": [
    "#print to csv\n",
    "#df_predicted = pd.DataFrame(X_test[0:23])\n",
    "#df_predicted['anomalous_actual'] = y_test\n",
    "#df_predicted['anomalous_predicted'] = predicted\n",
    "#df_predicted.to_csv('../data/interim/4_prediction_resuls.csv')"
   ]
  },
  {
   "cell_type": "code",
   "execution_count": 52,
   "id": "placed-contents",
   "metadata": {},
   "outputs": [
    {
     "data": {
      "text/plain": [
       "array([[20786,   863],\n",
       "       [  830,  6641]], dtype=int64)"
      ]
     },
     "execution_count": 52,
     "metadata": {},
     "output_type": "execute_result"
    }
   ],
   "source": [
    "metrics.confusion_matrix( y_test,predicted)"
   ]
  },
  {
   "cell_type": "code",
   "execution_count": 53,
   "id": "future-think",
   "metadata": {},
   "outputs": [
    {
     "name": "stdout",
     "output_type": "stream",
     "text": [
      "lenght_of_path 0.11001121133804102\n",
      "num_of_paths 0.08934881890669333\n",
      "num_special_chars 0.2046340716673305\n",
      "27 0.08099663288937613\n"
     ]
    }
   ],
   "source": [
    "#print important features\n",
    "for name, importance in zip(X_train.columns, clf.feature_importances_):\n",
    "    if importance>0.05:\n",
    "        print(name, importance)"
   ]
  },
  {
   "cell_type": "code",
   "execution_count": null,
   "id": "ahead-disposal",
   "metadata": {},
   "outputs": [],
   "source": [
    "#same thing but with vector df_vecs only\n",
    "\n",
    "X_train, X_test, y_train, y_test = train_test_split(df_vecs.drop('anomalous',1), df_vecs['anomalous'], \n",
    "                                                    test_size=0.3, random_state=42, shuffle = True)\n",
    "\n",
    "#train model\n",
    "clf = tree.DecisionTreeClassifier()\n",
    "clf = clf.fit(X_train, y_train)\n",
    "\n",
    "predicted = clf.predict( X_test)\n",
    "print( metrics.classification_report(y_test, predicted) )"
   ]
  },
  {
   "cell_type": "code",
   "execution_count": null,
   "id": "brave-evanescence",
   "metadata": {},
   "outputs": [],
   "source": [
    "#training set results\n",
    "predicted = clf.predict( X_train)\n",
    "print( metrics.classification_report(y_train, predicted) )"
   ]
  },
  {
   "cell_type": "markdown",
   "id": "adequate-uncertainty",
   "metadata": {},
   "source": [
    "## Random Forest  "
   ]
  },
  {
   "cell_type": "code",
   "execution_count": 87,
   "id": "under-builder",
   "metadata": {},
   "outputs": [
    {
     "name": "stderr",
     "output_type": "stream",
     "text": [
      "c:\\users\\aisha\\appdata\\local\\programs\\python\\python39\\lib\\site-packages\\sklearn\\utils\\validation.py:1675: FutureWarning: Feature names only support names that are all strings. Got feature names with dtypes: ['int', 'str']. An error will be raised in 1.2.\n",
      "  warnings.warn(\n",
      "c:\\users\\aisha\\appdata\\local\\programs\\python\\python39\\lib\\site-packages\\sklearn\\utils\\validation.py:1675: FutureWarning: Feature names only support names that are all strings. Got feature names with dtypes: ['int', 'str']. An error will be raised in 1.2.\n",
      "  warnings.warn(\n"
     ]
    },
    {
     "name": "stdout",
     "output_type": "stream",
     "text": [
      "0.669001579284668\n",
      "              precision    recall  f1-score   support\n",
      "\n",
      "       False       0.96      0.99      0.97     21649\n",
      "        True       0.95      0.87      0.91      7471\n",
      "\n",
      "    accuracy                           0.96     29120\n",
      "   macro avg       0.96      0.93      0.94     29120\n",
      "weighted avg       0.96      0.96      0.96     29120\n",
      "\n"
     ]
    }
   ],
   "source": [
    "\n",
    "clf_rf = RandomForestClassifier(n_estimators=25, max_depth=20, random_state=0, warm_start=True, min_samples_leaf=2, \n",
    "                                 max_features='sqrt', min_samples_split=10)\n",
    "clf_rf.fit(X_train, y_train)\n",
    "\n",
    "t0 = time.time()\n",
    "predicted = clf_rf.predict(X_test)\n",
    "print(time.time()-t0)\n",
    "print( metrics.classification_report(y_test, predicted) )"
   ]
  },
  {
   "cell_type": "code",
   "execution_count": 88,
   "id": "medieval-section",
   "metadata": {},
   "outputs": [
    {
     "name": "stdout",
     "output_type": "stream",
     "text": [
      "total_length_request 0.07074702259005912\n",
      "lenght_of_path 0.09248637546279755\n",
      "num_of_paths 0.06168499052897623\n",
      "num_special_chars 0.06062689543734976\n"
     ]
    }
   ],
   "source": [
    "#print important features\n",
    "for name, importance in zip(X_train.columns, clf_rf.feature_importances_):\n",
    "    if importance>0.05:\n",
    "        print(name, importance)"
   ]
  },
  {
   "cell_type": "markdown",
   "id": "cordless-toolbox",
   "metadata": {},
   "source": [
    "## SVM - Support Vector Machine"
   ]
  },
  {
   "cell_type": "code",
   "execution_count": 91,
   "id": "potential-gallery",
   "metadata": {},
   "outputs": [
    {
     "name": "stderr",
     "output_type": "stream",
     "text": [
      "c:\\users\\aisha\\appdata\\local\\programs\\python\\python39\\lib\\site-packages\\sklearn\\utils\\validation.py:1675: FutureWarning: Feature names only support names that are all strings. Got feature names with dtypes: ['int', 'str']. An error will be raised in 1.2.\n",
      "  warnings.warn(\n",
      "c:\\users\\aisha\\appdata\\local\\programs\\python\\python39\\lib\\site-packages\\sklearn\\utils\\validation.py:1675: FutureWarning: Feature names only support names that are all strings. Got feature names with dtypes: ['int', 'str']. An error will be raised in 1.2.\n",
      "  warnings.warn(\n",
      "c:\\users\\aisha\\appdata\\local\\programs\\python\\python39\\lib\\site-packages\\sklearn\\utils\\validation.py:1675: FutureWarning: Feature names only support names that are all strings. Got feature names with dtypes: ['int', 'str']. An error will be raised in 1.2.\n",
      "  warnings.warn(\n"
     ]
    },
    {
     "name": "stdout",
     "output_type": "stream",
     "text": [
      "173.19999933242798\n",
      "              precision    recall  f1-score   support\n",
      "\n",
      "       False       0.95      0.99      0.97     21649\n",
      "        True       0.97      0.84      0.90      7471\n",
      "\n",
      "    accuracy                           0.95     29120\n",
      "   macro avg       0.96      0.91      0.93     29120\n",
      "weighted avg       0.95      0.95      0.95     29120\n",
      "\n"
     ]
    }
   ],
   "source": [
    "#for j in ['linear', 'poly', 'rbf', 'sigmoid', 'precomputed']:\n",
    "clf_svm = make_pipeline(preprocessing.StandardScaler(), SVC(gamma=0.01,degree=3, kernel='rbf'))\n",
    "clf_svm.fit(X_train, y_train)\n",
    "\n",
    "t0 = time.time()\n",
    "predicted = clf_svm.predict(X_test)\n",
    "print(time.time()-t0)\n",
    "print( metrics.classification_report(y_test, predicted) )"
   ]
  },
  {
   "cell_type": "markdown",
   "id": "established-input",
   "metadata": {},
   "source": [
    "## Gradient Boost Tree"
   ]
  },
  {
   "cell_type": "code",
   "execution_count": 85,
   "id": "acting-magazine",
   "metadata": {},
   "outputs": [
    {
     "name": "stderr",
     "output_type": "stream",
     "text": [
      "c:\\users\\aisha\\appdata\\local\\programs\\python\\python39\\lib\\site-packages\\sklearn\\utils\\validation.py:1675: FutureWarning: Feature names only support names that are all strings. Got feature names with dtypes: ['int', 'str']. An error will be raised in 1.2.\n",
      "  warnings.warn(\n",
      "c:\\users\\aisha\\appdata\\local\\programs\\python\\python39\\lib\\site-packages\\sklearn\\utils\\validation.py:1675: FutureWarning: Feature names only support names that are all strings. Got feature names with dtypes: ['int', 'str']. An error will be raised in 1.2.\n",
      "  warnings.warn(\n"
     ]
    },
    {
     "name": "stdout",
     "output_type": "stream",
     "text": [
      "0.7189981937408447\n",
      "              precision    recall  f1-score   support\n",
      "\n",
      "       False       0.97      0.99      0.98     21649\n",
      "        True       0.97      0.92      0.94      7471\n",
      "\n",
      "    accuracy                           0.97     29120\n",
      "   macro avg       0.97      0.96      0.96     29120\n",
      "weighted avg       0.97      0.97      0.97     29120\n",
      "\n"
     ]
    }
   ],
   "source": [
    "\n",
    "clf_gb = GradientBoostingClassifier(n_estimators=25, learning_rate=1.0,\n",
    "                                    max_depth=20, random_state=0)\n",
    "clf_gb.fit(X_train, y_train)\n",
    "\n",
    "t0 = time.time()\n",
    "predicted = clf_gb.predict(X_test)\n",
    "print(time.time()-t0)\n",
    "print( metrics.classification_report(y_test, predicted) )"
   ]
  },
  {
   "cell_type": "code",
   "execution_count": 86,
   "id": "peaceful-working",
   "metadata": {},
   "outputs": [
    {
     "name": "stdout",
     "output_type": "stream",
     "text": [
      "num_of_args 0.08290309903746867\n",
      "lenght_of_path 0.10210966208302032\n",
      "num_of_paths 0.07758322123400825\n",
      "num_special_chars 0.20661802817204225\n",
      "27 0.06868971467082338\n"
     ]
    }
   ],
   "source": [
    "#print important features\n",
    "for name, importance in zip(X_train.columns, clf_gb.feature_importances_):\n",
    "    if importance>0.05:\n",
    "        print(name, importance)"
   ]
  },
  {
   "cell_type": "markdown",
   "id": "streaming-retention",
   "metadata": {},
   "source": [
    "## Neural net - MLP"
   ]
  },
  {
   "cell_type": "code",
   "execution_count": 83,
   "id": "ignored-athletics",
   "metadata": {},
   "outputs": [
    {
     "name": "stderr",
     "output_type": "stream",
     "text": [
      "c:\\users\\aisha\\appdata\\local\\programs\\python\\python39\\lib\\site-packages\\sklearn\\utils\\validation.py:1675: FutureWarning: Feature names only support names that are all strings. Got feature names with dtypes: ['int', 'str']. An error will be raised in 1.2.\n",
      "  warnings.warn(\n",
      "c:\\users\\aisha\\appdata\\local\\programs\\python\\python39\\lib\\site-packages\\sklearn\\utils\\validation.py:1675: FutureWarning: Feature names only support names that are all strings. Got feature names with dtypes: ['int', 'str']. An error will be raised in 1.2.\n",
      "  warnings.warn(\n",
      "c:\\users\\aisha\\appdata\\local\\programs\\python\\python39\\lib\\site-packages\\sklearn\\utils\\validation.py:1675: FutureWarning: Feature names only support names that are all strings. Got feature names with dtypes: ['int', 'str']. An error will be raised in 1.2.\n",
      "  warnings.warn(\n"
     ]
    }
   ],
   "source": [
    "scaler = preprocessing.StandardScaler() \n",
    "scaler.fit(X_train)  \n",
    "X_train_scaled = scaler.transform(X_train) \n",
    "X_test_scaled = scaler.transform(X_test) \n"
   ]
  },
  {
   "cell_type": "code",
   "execution_count": 84,
   "id": "royal-questionnaire",
   "metadata": {},
   "outputs": [
    {
     "name": "stdout",
     "output_type": "stream",
     "text": [
      "0.03499937057495117\n",
      "              precision    recall  f1-score   support\n",
      "\n",
      "       False       0.97      0.99      0.98     21649\n",
      "        True       0.97      0.93      0.95      7471\n",
      "\n",
      "    accuracy                           0.97     29120\n",
      "   macro avg       0.97      0.96      0.96     29120\n",
      "weighted avg       0.97      0.97      0.97     29120\n",
      "\n"
     ]
    }
   ],
   "source": [
    "clf_mlp = MLPClassifier(solver='adam', alpha=1e-5, hidden_layer_sizes=(14, 10 ), random_state=1, max_iter=300, warm_start=True)\n",
    "clf_mlp.fit(X_train_scaled, y_train)\n",
    "\n",
    "t0 = time.time()\n",
    "predicted = clf_mlp.predict(X_test_scaled)\n",
    "print(time.time()-t0)\n",
    "print( metrics.classification_report(y_test, predicted) )                  "
   ]
  },
  {
   "cell_type": "markdown",
   "id": "stuffed-festival",
   "metadata": {},
   "source": [
    "## Ensemble Classifier"
   ]
  },
  {
   "cell_type": "code",
   "execution_count": 76,
   "id": "sought-initial",
   "metadata": {},
   "outputs": [],
   "source": [
    "from sklearn.ensemble import StackingClassifier, VotingClassifier"
   ]
  },
  {
   "cell_type": "code",
   "execution_count": 80,
   "id": "ranging-debut",
   "metadata": {},
   "outputs": [],
   "source": [
    "clf1 = RandomForestClassifier(n_estimators=25, max_depth=20, random_state=0, warm_start=True, min_samples_leaf=2, \n",
    "                                 max_features='sqrt', min_samples_split=10)\n",
    "clf2 = GradientBoostingClassifier(n_estimators=25, learning_rate=1.0,max_depth=20, random_state=0)\n",
    "clf3 = MLPClassifier(solver='adam', alpha=1e-5, hidden_layer_sizes=(14 , 10), random_state=1, max_iter=300, warm_start=True)"
   ]
  },
  {
   "cell_type": "markdown",
   "id": "everyday-fashion",
   "metadata": {},
   "source": [
    "### Voting Classifier"
   ]
  },
  {
   "cell_type": "code",
   "execution_count": 81,
   "id": "sufficient-correspondence",
   "metadata": {},
   "outputs": [
    {
     "name": "stdout",
     "output_type": "stream",
     "text": [
      "1.8698644638061523\n",
      "              precision    recall  f1-score   support\n",
      "\n",
      "       False       0.97      0.99      0.98     21649\n",
      "        True       0.98      0.92      0.95      7471\n",
      "\n",
      "    accuracy                           0.97     29120\n",
      "   macro avg       0.97      0.96      0.97     29120\n",
      "weighted avg       0.97      0.97      0.97     29120\n",
      "\n"
     ]
    }
   ],
   "source": [
    "ecl_voting = VotingClassifier(estimators=[('rf', clf1), ('grb', clf2), ('mlp', clf3)], weights=[1,1,1], voting='hard')\n",
    "ecl_voting.fit(X_train_scaled, y_train)\n",
    "\n",
    "t0 = time.time()\n",
    "predicted = ecl_voting.predict(X_test_scaled)\n",
    "print(time.time()-t0)\n",
    "print( metrics.classification_report(y_test, predicted) )  "
   ]
  },
  {
   "cell_type": "markdown",
   "id": "governmental-numbers",
   "metadata": {},
   "source": [
    "### Stacking Classifier"
   ]
  },
  {
   "cell_type": "code",
   "execution_count": 82,
   "id": "acute-myrtle",
   "metadata": {},
   "outputs": [
    {
     "name": "stdout",
     "output_type": "stream",
     "text": [
      "0.7639992237091064\n",
      "              precision    recall  f1-score   support\n",
      "\n",
      "       False       0.98      0.99      0.98     21649\n",
      "        True       0.97      0.94      0.96      7471\n",
      "\n",
      "    accuracy                           0.98     29120\n",
      "   macro avg       0.98      0.97      0.97     29120\n",
      "weighted avg       0.98      0.98      0.98     29120\n",
      "\n"
     ]
    }
   ],
   "source": [
    "ecl_stacking = StackingClassifier(estimators=[('rf', clf1), ('grb', clf2), ('mlp', clf3)])\n",
    "ecl_stacking.fit(X_train_scaled, y_train)\n",
    "\n",
    "t0 = time.time()\n",
    "predicted = ecl_stacking.predict(X_test_scaled)\n",
    "print(time.time()-t0)\n",
    "print( metrics.classification_report(y_test, predicted) )  "
   ]
  },
  {
   "cell_type": "markdown",
   "id": "outer-practitioner",
   "metadata": {},
   "source": [
    "# Generate reports"
   ]
  },
  {
   "cell_type": "code",
   "execution_count": null,
   "id": "comparative-ocean",
   "metadata": {},
   "outputs": [],
   "source": [
    "from pandas_profiling import ProfileReport"
   ]
  },
  {
   "cell_type": "code",
   "execution_count": null,
   "id": "unable-cowboy",
   "metadata": {},
   "outputs": [],
   "source": [
    "# profile = ProfileReport(df_combined, minimal=True)\n",
    "# profile.to_file(output_file=\"../reports/output_min.html\")\n"
   ]
  },
  {
   "cell_type": "code",
   "execution_count": null,
   "id": "certain-garbage",
   "metadata": {},
   "outputs": [],
   "source": [
    "# profile = ProfileReport(df)\n",
    "# profile.to_file(output_file=\"../reports/output_no_doc2vec.html\")"
   ]
  },
  {
   "cell_type": "code",
   "execution_count": null,
   "id": "continued-nepal",
   "metadata": {},
   "outputs": [],
   "source": [
    "df.loc[df['x0_PUT']==1.0]['anomalous'].value_counts()"
   ]
  },
  {
   "cell_type": "code",
   "execution_count": null,
   "id": "downtown-jerusalem",
   "metadata": {},
   "outputs": [],
   "source": []
  }
 ],
 "metadata": {
  "kernelspec": {
   "display_name": "Python 3",
   "language": "python",
   "name": "python3"
  },
  "language_info": {
   "codemirror_mode": {
    "name": "ipython",
    "version": 3
   },
   "file_extension": ".py",
   "mimetype": "text/x-python",
   "name": "python",
   "nbconvert_exporter": "python",
   "pygments_lexer": "ipython3",
   "version": "3.9.0"
  }
 },
 "nbformat": 4,
 "nbformat_minor": 5
}
